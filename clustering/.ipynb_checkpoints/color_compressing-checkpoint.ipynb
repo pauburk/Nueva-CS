{
 "cells": [
  {
   "cell_type": "markdown",
   "metadata": {},
   "source": [
    "Links I referenced:\n",
    "- https://www.pluralsight.com/guides/importing-image-data-into-numpy-arrays\n",
    "- https://scikit-learn.org/stable/auto_examples/cluster/plot_color_quantization.html\n",
    "\n"
   ]
  },
  {
   "cell_type": "code",
   "execution_count": null,
   "metadata": {},
   "outputs": [],
   "source": [
    "import numpy as np\n",
    "from numpy import asarray\n",
    "import PIL\n",
    "from PIL import Image\n",
    "from matplotlib import image\n",
    "from matplotlib import pyplot\n",
    "print(__doc__)\n",
    "import matplotlib.pyplot as plt\n",
    "from sklearn.cluster import KMeans\n",
    "from sklearn.metrics import pairwise_distances_argmin\n",
    "from sklearn.datasets import load_sample_image\n",
    "from sklearn.utils import shuffle\n",
    "from time import time\n",
    "from sklearn.cluster import DBSCAN"
   ]
  },
  {
   "cell_type": "markdown",
   "metadata": {},
   "source": [
    "## Load image using Pillow"
   ]
  },
  {
   "cell_type": "code",
   "execution_count": null,
   "metadata": {},
   "outputs": [],
   "source": [
    "imagePIL = Image.open('IMG2.jpg')\n",
    "\n",
    "print(imagePIL.format)\n",
    "print(imagePIL.size)\n",
    "print(imagePIL.mode)\n",
    "\n",
    "# show the image (will open in Preview)\n",
    "# image.show()"
   ]
  },
  {
   "cell_type": "markdown",
   "metadata": {},
   "source": [
    "## Load image using Matplotlib"
   ]
  },
  {
   "cell_type": "code",
   "execution_count": null,
   "metadata": {},
   "outputs": [],
   "source": [
    "imageMPL = image.imread('IMG2.jpg')\n",
    "\n",
    "print(imageMPL.dtype)\n",
    "print(imageMPL.shape)\n",
    "\n",
    "pyplot.imshow(imageMPL)\n",
    "pyplot.show()"
   ]
  },
  {
   "cell_type": "markdown",
   "metadata": {},
   "source": [
    "## Convert image to numpy array"
   ]
  },
  {
   "cell_type": "code",
   "execution_count": null,
   "metadata": {
    "scrolled": true
   },
   "outputs": [],
   "source": [
    "np_array = asarray(imagePIL)\n",
    "print(np_array.shape)"
   ]
  },
  {
   "cell_type": "markdown",
   "metadata": {},
   "source": [
    "## Do the clustering"
   ]
  },
  {
   "cell_type": "code",
   "execution_count": null,
   "metadata": {},
   "outputs": [],
   "source": [
    "n_colors = 64\n",
    "\n",
    "# Convert to floats instead of the default 8 bits integer coding. Dividing by 255 is important so that plt.imshow behaves works well on float data (need to be in the range [0-1])\n",
    "np_array = np.array(np_array, dtype=np.float64) / 255\n",
    "\n",
    "# Load image and transform to a 2D numpy array\n",
    "w, h, d = original_shape = tuple(np_array.shape)\n",
    "np_2d = np.reshape(np_array, (w * h, d))"
   ]
  },
  {
   "cell_type": "code",
   "execution_count": null,
   "metadata": {},
   "outputs": [],
   "source": [
    "# # Fit models on small sub-sample of the data to find main colors\n",
    "# np_2d_sample = shuffle(np_2d, random_state=0)[:1000]\n",
    "\n",
    "# print(\"Fitting k-means model on a small sub-sample of the data\")\n",
    "# t0 = time()\n",
    "# kmeans = KMeans(n_clusters=n_colors, random_state=0).fit(np_2d_sample)\n",
    "# print(\"done in %0.3fs.\" % (time() - t0))\n",
    "\n",
    "# print(\"Fitting DBSCAN model on a small sub-sample of the data\")\n",
    "# t0 = time()\n",
    "# dbscan = DBSCAN(eps=0.5, min_samples=5).fit(np_2d_sample)\n",
    "# print(\"done in %0.3fs.\" % (time() - t0))"
   ]
  },
  {
   "cell_type": "code",
   "execution_count": null,
   "metadata": {
    "scrolled": true
   },
   "outputs": [],
   "source": [
    "# # Get labels for all points k-means\n",
    "# print(\"Predicting color indices on the full image (k-means)\")\n",
    "# t0 = time()\n",
    "# labelsK = kmeans.predict(np_2d)\n",
    "# print(\"done in %0.3fs.\" % (time() - t0))\n",
    "\n",
    "# # Get labels for all points dbscan\n",
    "# print(\"Predicting color indices on the full image (DBSCAN)\")\n",
    "# t0 = time()\n",
    "# labelsDB = dbscan.predict(np_2d)\n",
    "# print(\"done in %0.3fs.\" % (time() - t0))"
   ]
  },
  {
   "cell_type": "code",
   "execution_count": null,
   "metadata": {},
   "outputs": [],
   "source": [
    "# Fit and predict for both models on full image\n",
    "\n",
    "print(\"Fitting and predicting with k-means\")\n",
    "t0 = time()\n",
    "labelsK = KMeans(n_clusters=n_colors, random_state=0).fit_predict(np_2d)\n",
    "print(\"done in %0.3fs.\" % (time() - t0))\n",
    "\n",
    "print(\"Fitting and predicting with DBSCAN\")\n",
    "t0 = time()\n",
    "labelsDB = DBSCAN(eps=0.5, min_samples=5).fit_predict(np_2d)\n",
    "print(\"done in %0.3fs.\" % (time() - t0))"
   ]
  },
  {
   "cell_type": "code",
   "execution_count": null,
   "metadata": {},
   "outputs": [],
   "source": [
    "codebook_random = shuffle(np_2d, random_state=0)[:n_colors]\n",
    "print(\"Predicting color indices on the full image (random)\")\n",
    "t0 = time()\n",
    "labels_random = pairwise_distances_argmin(codebook_random, np_2d, axis=0)\n",
    "print(\"done in %0.3fs.\" % (time() - t0))"
   ]
  },
  {
   "cell_type": "code",
   "execution_count": null,
   "metadata": {},
   "outputs": [],
   "source": [
    "def recreate_image(codebook, labels, w, h):\n",
    "    \"\"\"Recreate the (compressed) image from the code book & labels\"\"\"\n",
    "    d = codebook.shape[1]\n",
    "    image = np.zeros((w, h, d))\n",
    "    label_idx = 0\n",
    "    for i in range(w):\n",
    "        for j in range(h):\n",
    "            image[i][j] = codebook[labels[label_idx]]\n",
    "            label_idx += 1\n",
    "    return image"
   ]
  },
  {
   "cell_type": "code",
   "execution_count": null,
   "metadata": {},
   "outputs": [],
   "source": [
    "# Display all results, alongside original image\n",
    "plt.figure(1)\n",
    "plt.clf()\n",
    "plt.axis('off')\n",
    "plt.title('Original image (96,615 colors)')\n",
    "plt.imshow(img_array)\n",
    "\n",
    "plt.figure(2)\n",
    "plt.clf()\n",
    "plt.axis('off')\n",
    "plt.title('Quantized image (64 colors, K-Means)')\n",
    "plt.imshow(recreate_image(kmeans.cluster_centers_, labelsK, w, h))\n",
    "\n",
    "plt.figure(3)\n",
    "plt.clf()\n",
    "plt.axis('off')\n",
    "plt.title('Quantized image (64 colors, DBSCAN)')\n",
    "plt.imshow(recreate_image(kmeans.cluster_centers_, labelsDB, w, h))\n",
    "\n",
    "plt.figure(4)\n",
    "plt.clf()\n",
    "plt.axis('off')\n",
    "plt.title('Quantized image (64 colors, Random)')\n",
    "plt.imshow(recreate_image(codebook_random, labels_random, w, h))\n",
    "plt.show()"
   ]
  },
  {
   "cell_type": "code",
   "execution_count": null,
   "metadata": {},
   "outputs": [],
   "source": []
  }
 ],
 "metadata": {
  "kernelspec": {
   "display_name": "Python 3",
   "language": "python",
   "name": "python3"
  },
  "language_info": {
   "codemirror_mode": {
    "name": "ipython",
    "version": 3
   },
   "file_extension": ".py",
   "mimetype": "text/x-python",
   "name": "python",
   "nbconvert_exporter": "python",
   "pygments_lexer": "ipython3",
   "version": "3.8.5"
  }
 },
 "nbformat": 4,
 "nbformat_minor": 4
}
