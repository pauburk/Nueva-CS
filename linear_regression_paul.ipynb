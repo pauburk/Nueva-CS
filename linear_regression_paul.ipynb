{
 "cells": [
  {
   "cell_type": "markdown",
   "metadata": {},
   "source": [
    "# Linear Regression\n",
    "\n",
    "By Jen Selby and Carl Shan\n",
    "\n",
    "This Jupyter Notebook will introduce to you to how to make a Linear Regression model using the Sci-kit Learn (aka `sklearn`) Python library.\n",
    "\n",
    "You can see basic example here:\n",
    "> http://scikit-learn.org/stable/modules/linear_model.html#ordinary-least-squares\n",
    "\n",
    "and full documentation of the sklearn linear_model module here:\n",
    "> http://scikit-learn.org/stable/modules/generated/sklearn.linear_model.LinearRegression.html\n",
    "\n",
    "# Instructions\n",
    "\n",
    "0. Make sure you've read and learned a bit about the Linear Regression model. [Click here for course notes.](https://jennselby.github.io/MachineLearningCourseNotes/#linear-regression)\n",
    "1. Read through the instructions and code behind the following sections:\n",
    "\n",
    "    * [Setup](#Setup)\n",
    "    * [Fake Data Generation](#Fake-Data-Generation)\n",
    "    * [Training](#Training)\n",
    "    * [Results and Visualization](#Results-and-Visualization)\n",
    "2. Then, pick and complete at least one of the set of exercises (Standard or Advanced) and write code that answers each set of questions.\n",
    "    * [Option 1 - Standard Difficulty](#Exercise-Option-#1---Standard-Difficulty)\n",
    "    * [Option 2 - Standard Difficulty](#Exercise-Option-#2---Standard-Difficulty)\n",
    "    * [Option 3 - Advanced Difficulty](#Exercise-Option-#3---Advanced-Difficulty)\n",
    "    * [Option 4 - Advanced Difficulty](#Exercise-Option-#4---Advanced-Difficulty)"
   ]
  },
  {
   "cell_type": "markdown",
   "metadata": {},
   "source": [
    "# Setup\n",
    "\n",
    "First, make sure you have installed all of the necessary Python libraries, following [the instructions here](https://jennselby.github.io/MachineLearningCourseNotes/#setting-up-python3).\n",
    "\n",
    "You should have `sklearn`, `numpy`, `matplotlib` and `pandas` installed.\n",
    "\n",
    "If you haven't installed them, use `pip install <library here>` to install them in your Terminal.\n",
    "\n",
    "Next, we want to make sure we can display our graphs in this notebook and import all of the libraries we'll need into the notebook."
   ]
  },
  {
   "cell_type": "code",
   "execution_count": 99,
   "metadata": {},
   "outputs": [],
   "source": [
    "# We're going to be doing some plotting, and we want to be able to see these plots.\n",
    "# To display graphs in this notebook, run this cell.\n",
    "%matplotlib inline"
   ]
  },
  {
   "cell_type": "code",
   "execution_count": 100,
   "metadata": {},
   "outputs": [],
   "source": [
    "import numpy.random # for generating a noisy data set\n",
    "from sklearn import linear_model # for training a linear model\n",
    "\n",
    "import matplotlib.pyplot # for plotting in general\n",
    "from mpl_toolkits.mplot3d import Axes3D # for 3D plotting\n",
    "\n",
    "import pandas as pd\n",
    "\n",
    "# for polynomial regression\n",
    "\n",
    "import operator\n",
    "import numpy as np\n",
    "from sklearn.linear_model import LinearRegression\n",
    "from sklearn.metrics import mean_squared_error, r2_score\n",
    "from sklearn.preprocessing import PolynomialFeatures"
   ]
  },
  {
   "cell_type": "markdown",
   "metadata": {},
   "source": [
    "# Fake Data Generation\n",
    "\n",
    "We're going to generate some fake data to test out our ideas about linear regression. These constant variables decide some of the characteristics of our data: the `x` range (which will also be used to set the size of the graph later) and how many inputs we should generate."
   ]
  },
  {
   "cell_type": "code",
   "execution_count": 101,
   "metadata": {},
   "outputs": [],
   "source": [
    "# Setting the limits and number of our first, X, variable\n",
    "\n",
    "MIN_X = -10\n",
    "MAX_X = 10\n",
    "NUM_INPUTS = 50"
   ]
  },
  {
   "cell_type": "markdown",
   "metadata": {},
   "source": [
    "**Fake Dataset 1 - Single x Variable**\n",
    "\n",
    "Our first dataset has just one input feature. We are going to pick out 50 random real numbers between our min and max. Then, we will generate one output for each of these inputs following the function $y = 0.3x + 1$."
   ]
  },
  {
   "cell_type": "code",
   "execution_count": 102,
   "metadata": {},
   "outputs": [
    {
     "name": "stdout",
     "output_type": "stream",
     "text": [
      "[[ 6.2904252 ]\n",
      " [-2.54289931]\n",
      " [-7.42856237]\n",
      " [-6.80485631]\n",
      " [ 7.37313625]\n",
      " [ 6.7437081 ]\n",
      " [ 8.85717405]\n",
      " [-7.76471938]\n",
      " [-3.19955451]\n",
      " [ 8.00685999]\n",
      " [ 8.66548672]\n",
      " [-1.9082634 ]\n",
      " [-4.99392972]\n",
      " [ 6.40262465]\n",
      " [-5.2704838 ]\n",
      " [-8.7794193 ]\n",
      " [-3.86323563]\n",
      " [-8.93015756]\n",
      " [-0.24176536]\n",
      " [ 5.45588778]\n",
      " [ 0.99793904]\n",
      " [-3.59432091]\n",
      " [-2.96747591]\n",
      " [ 1.15716256]\n",
      " [ 2.6991704 ]\n",
      " [ 3.68273334]\n",
      " [ 4.9230654 ]\n",
      " [-7.7164389 ]\n",
      " [ 8.4666321 ]\n",
      " [-4.31407529]\n",
      " [ 5.64671736]\n",
      " [ 8.16338305]\n",
      " [ 1.96084576]\n",
      " [-4.87238354]\n",
      " [ 4.08215117]\n",
      " [ 6.71429045]\n",
      " [-3.25328423]\n",
      " [-9.68876078]\n",
      " [-5.95030946]\n",
      " [ 0.41302813]\n",
      " [-0.64801846]\n",
      " [-7.60980035]\n",
      " [-8.21824628]\n",
      " [ 1.65307001]\n",
      " [ 6.82018669]\n",
      " [-5.57582449]\n",
      " [ 1.66657725]\n",
      " [-7.99916912]\n",
      " [-2.8219197 ]\n",
      " [-3.48424489]]\n"
     ]
    }
   ],
   "source": [
    "# randomly pick numbers for x\n",
    "x_one_x = numpy.random.uniform(low=MIN_X, high=MAX_X, size=(NUM_INPUTS, 1))\n",
    "\n",
    "print(x_one_x)"
   ]
  },
  {
   "cell_type": "markdown",
   "metadata": {},
   "source": [
    "Let's store this data into a `pandas` `DataFrame` object and name the column `'x'`."
   ]
  },
  {
   "cell_type": "code",
   "execution_count": 103,
   "metadata": {},
   "outputs": [
    {
     "data": {
      "text/html": [
       "<div>\n",
       "<style scoped>\n",
       "    .dataframe tbody tr th:only-of-type {\n",
       "        vertical-align: middle;\n",
       "    }\n",
       "\n",
       "    .dataframe tbody tr th {\n",
       "        vertical-align: top;\n",
       "    }\n",
       "\n",
       "    .dataframe thead th {\n",
       "        text-align: right;\n",
       "    }\n",
       "</style>\n",
       "<table border=\"1\" class=\"dataframe\">\n",
       "  <thead>\n",
       "    <tr style=\"text-align: right;\">\n",
       "      <th></th>\n",
       "      <th>x</th>\n",
       "    </tr>\n",
       "  </thead>\n",
       "  <tbody>\n",
       "    <tr>\n",
       "      <th>0</th>\n",
       "      <td>6.290425</td>\n",
       "    </tr>\n",
       "    <tr>\n",
       "      <th>1</th>\n",
       "      <td>-2.542899</td>\n",
       "    </tr>\n",
       "    <tr>\n",
       "      <th>2</th>\n",
       "      <td>-7.428562</td>\n",
       "    </tr>\n",
       "    <tr>\n",
       "      <th>3</th>\n",
       "      <td>-6.804856</td>\n",
       "    </tr>\n",
       "    <tr>\n",
       "      <th>4</th>\n",
       "      <td>7.373136</td>\n",
       "    </tr>\n",
       "  </tbody>\n",
       "</table>\n",
       "</div>"
      ],
      "text/plain": [
       "          x\n",
       "0  6.290425\n",
       "1 -2.542899\n",
       "2 -7.428562\n",
       "3 -6.804856\n",
       "4  7.373136"
      ]
     },
     "execution_count": 103,
     "metadata": {},
     "output_type": "execute_result"
    }
   ],
   "source": [
    "data_one_x = pd.DataFrame(data=x_one_x, columns=['x'])\n",
    "data_one_x.head()"
   ]
  },
  {
   "cell_type": "markdown",
   "metadata": {},
   "source": [
    "Cool. Now we have some fake `x` data.\n",
    "\n",
    "Let's make the fake `y` data now.\n",
    "\n",
    "Let's try to make data that follows the equation: $y = 0.3x + 1$."
   ]
  },
  {
   "cell_type": "code",
   "execution_count": 104,
   "metadata": {},
   "outputs": [],
   "source": [
    "data_one_x['y'] = 0.3 * data_one_x['x'] + 1"
   ]
  },
  {
   "cell_type": "code",
   "execution_count": 105,
   "metadata": {},
   "outputs": [
    {
     "data": {
      "text/plain": [
       "<AxesSubplot:xlabel='x', ylabel='y'>"
      ]
     },
     "execution_count": 105,
     "metadata": {},
     "output_type": "execute_result"
    },
    {
     "data": {
      "image/png": "[encoded data removed]",
      "text/plain": [
       "<Figure size 432x288 with 1 Axes>"
      ]
     },
     "metadata": {
      "needs_background": "light"
     },
     "output_type": "display_data"
    }
   ],
   "source": [
    "data_one_x.plot.scatter(x='x', y='y')"
   ]
  },
  {
   "cell_type": "markdown",
   "metadata": {},
   "source": [
    "Okay. That looks *too* perfect.\n",
    "\n",
    "Most data in the real world look less linear than that.\n",
    "\n",
    "So let's add a little bit of noise. Noise are random pertubations to your data that happens naturally in the real world. We will simulate some noise.\n",
    "\n",
    "Otherwise our linear model will be too easy.\n",
    "\n",
    "**Note:** We can generate some noise by picking numbers in a [normal distribution (also called bell curve)](http://www.statisticshowto.com/probability-and-statistics/normal-distributions/) around zero."
   ]
  },
  {
   "cell_type": "code",
   "execution_count": 106,
   "metadata": {},
   "outputs": [],
   "source": [
    "# First, let's create some noise to make our data a little bit more spread out.\n",
    "\n",
    "# generate some normally distributed noise\n",
    "noise_one_x = numpy.random.normal(size=NUM_INPUTS)"
   ]
  },
  {
   "cell_type": "code",
   "execution_count": 107,
   "metadata": {},
   "outputs": [],
   "source": [
    "# Now let's create the 'y' variable\n",
    "# It turns out you can make a new column in pandas just by doing the below.\n",
    "# It's so simple!\n",
    "data_one_x['y'] = data_one_x['y'] + noise_one_x"
   ]
  },
  {
   "cell_type": "code",
   "execution_count": 108,
   "metadata": {},
   "outputs": [
    {
     "data": {
      "text/plain": [
       "<AxesSubplot:xlabel='x', ylabel='y'>"
      ]
     },
     "execution_count": 108,
     "metadata": {},
     "output_type": "execute_result"
    },
    {
     "data": {
      "image/png": "[encoded data removed]",
      "text/plain": [
       "<Figure size 432x288 with 1 Axes>"
      ]
     },
     "metadata": {
      "needs_background": "light"
     },
     "output_type": "display_data"
    }
   ],
   "source": [
    "data_one_x.plot.scatter(x='x', y='y')"
   ]
  },
  {
   "cell_type": "markdown",
   "metadata": {},
   "source": [
    "Great!\n",
    "\n",
    "This looks more like real data now."
   ]
  },
  {
   "cell_type": "markdown",
   "metadata": {},
   "source": [
    "# Training\n",
    "\n",
    "Now that we have our data, we can train our model to find the best fit line. We will use the linear model module from the scikit-learn library to do this.\n",
    "\n",
    "Note: you may get a warning about LAPACK. According to [this discussion on the scikit-learn github page](https://github.com/scipy/scipy/issues/5998), this is safe to ignore."
   ]
  },
  {
   "cell_type": "code",
   "execution_count": 109,
   "metadata": {},
   "outputs": [],
   "source": [
    "# This creates an \"empty\" linear model\n",
    "\n",
    "model_one_x = linear_model.LinearRegression()\n"
   ]
  },
  {
   "cell_type": "markdown",
   "metadata": {},
   "source": [
    "First, we need to reshape our data.\n",
    "\n",
    "Currently, our data looks like the following:\n",
    "\n",
    "```python\n",
    "# data_one_x['x'] looks like\n",
    "[-3.44342026,  9.60082542,  4.99683803,  7.11339915,  9.69287893, ...]\n",
    "\n",
    "```\n",
    "\n",
    "In other words, it's just a list.\n",
    "\n",
    "However, this isn't sufficient.\n",
    "\n",
    "That's because later on, we will use a command called `.fit()` and this command expects our data to look like a list of lists.\n",
    "\n",
    "For example:\n",
    "\n",
    "```python\n",
    "[[-3.44342026],\n",
    "[ 9.60082542],\n",
    "[ 4.99683803],\n",
    "[ 7.11339915],\n",
    "[ 9.69287893],\n",
    "[-5.1383316 ],\n",
    "[ 8.96638209],\n",
    "...\n",
    "[-9.12492363]]\n",
    "```\n",
    "\n",
    "We will use a the command `.reshape()`."
   ]
  },
  {
   "cell_type": "code",
   "execution_count": 110,
   "metadata": {},
   "outputs": [],
   "source": [
    "# Run this code\n",
    "x_one_x = data_one_x['x'].values.reshape(-1, 1)\n",
    "y_one_x = data_one_x['y'].values.reshape(-1, 1)"
   ]
  },
  {
   "cell_type": "markdown",
   "metadata": {},
   "source": [
    "There we go. Now we can \"fit\" the data.\n",
    "\n",
    "\"Fitting\" the data means to give the \"empty model\" real data and ask it to find the \"best parameters\" that \"best fits\" the data.\n",
    "\n",
    "Using the amazing `sklearn` library, it's as easy as running the `.fit()` command.\n",
    "\n",
    "Note: you may get a warning about LAPACK. According to [this discussion on the scikit-learn github page](https://github.com/scipy/scipy/issues/5998), this is safe to ignore."
   ]
  },
  {
   "cell_type": "code",
   "execution_count": 111,
   "metadata": {
    "scrolled": true
   },
   "outputs": [
    {
     "data": {
      "text/plain": [
       "LinearRegression()"
      ]
     },
     "execution_count": 111,
     "metadata": {},
     "output_type": "execute_result"
    }
   ],
   "source": [
    "# Run this code\n",
    "model_one_x.fit(X=x_one_x, y=y_one_x)"
   ]
  },
  {
   "cell_type": "markdown",
   "metadata": {},
   "source": [
    "# Results and Visualization\n",
    "\n",
    "Now, let's see what our model learned. We can look at the results numerically:"
   ]
  },
  {
   "cell_type": "code",
   "execution_count": 112,
   "metadata": {},
   "outputs": [],
   "source": [
    "def print_model_fit(model):   \n",
    "    # print out the parameters for the best fit line\n",
    "    print('y-intercept: {i}  slope: {c}'.format(i=model.intercept_, c=model.coef_))"
   ]
  },
  {
   "cell_type": "code",
   "execution_count": 113,
   "metadata": {},
   "outputs": [
    {
     "name": "stdout",
     "output_type": "stream",
     "text": [
      "y-intercept: [0.90281472]  slope: [[0.31387804]]\n"
     ]
    }
   ],
   "source": [
    "print_model_fit(model_one_x)"
   ]
  },
  {
   "cell_type": "code",
   "execution_count": 114,
   "metadata": {},
   "outputs": [
    {
     "name": "stdout",
     "output_type": "stream",
     "text": [
      "[[0.51674473]\n",
      " [1.10997423]\n",
      " [1.52429325]]\n"
     ]
    }
   ],
   "source": [
    "## How would this model make predictions?\n",
    "\n",
    "# Let's make some new data that have the following values and see how to predict their corresponding 'y' values.\n",
    "\n",
    "# Print out the model's guesses for some values of x\n",
    "new_x_values = [ [-1.23], [0.66], [1.98] ]\n",
    "\n",
    "predictions = model_one_x.predict(new_x_values)\n",
    "\n",
    "print(predictions)"
   ]
  },
  {
   "cell_type": "code",
   "execution_count": 115,
   "metadata": {},
   "outputs": [
    {
     "name": "stdout",
     "output_type": "stream",
     "text": [
      "Model prediction for -1.23: [0.51674473]\n",
      "Model prediction for 0.66: [1.10997423]\n",
      "Model prediction for 1.98: [1.52429325]\n"
     ]
    }
   ],
   "source": [
    "# Let's print them a little bit nicer\n",
    "for datapoint, prediction in zip(new_x_values, predictions):\n",
    "    print('Model prediction for {}: {}'.format(datapoint[0], prediction))"
   ]
  },
  {
   "cell_type": "markdown",
   "metadata": {},
   "source": [
    "We can also look at them graphically."
   ]
  },
  {
   "cell_type": "code",
   "execution_count": 116,
   "metadata": {},
   "outputs": [],
   "source": [
    "def plot_best_fit_line(model, x, y, opt1_change=False):\n",
    "    # create the figure\n",
    "    fig = matplotlib.pyplot.figure(1)\n",
    "    fig.suptitle('Data and Best-Fit Line')\n",
    "    matplotlib.pyplot.xlabel('x values')\n",
    "    matplotlib.pyplot.ylabel('y values')\n",
    "\n",
    "    # put the generated dataset points on the graph\n",
    "    matplotlib.pyplot.scatter(x, y)\n",
    "    \n",
    "    # Now we actually want to plot the best-fit line.\n",
    "    # To simulate that, we'll simply generate all the\n",
    "    # inputs on the graph and plot that.\n",
    "    # predict for inputs along the graph to find the best-fit line\n",
    "    X = numpy.linspace(MIN_X, MAX_X) # generates all the possible values of x\n",
    "    Y = model.predict(list(zip(X)))\n",
    "    matplotlib.pyplot.plot(X, Y)\n",
    "    \n",
    "    if opt1_change: # If we want to run the changes I added\n",
    "        \n",
    "        # test if predictions fall on best-fit line\n",
    "        testx = [[-1.23], [0.66], [1.98]]\n",
    "        testy = model.predict(testx)\n",
    "        matplotlib.pyplot.scatter(testx, testy, color=\"red\")\n",
    "\n",
    "        # show the original line\n",
    "        xog = numpy.linspace(MIN_X, MAX_X)\n",
    "        yog = 0.3*xog + 1\n",
    "        matplotlib.pyplot.plot(xog, yog, '-r', color=\"green\", linestyle=\"--\")"
   ]
  },
  {
   "cell_type": "code",
   "execution_count": 117,
   "metadata": {},
   "outputs": [
    {
     "data": {
      "image/png": "[encoded data removed]",
      "text/plain": [
       "<Figure size 432x288 with 1 Axes>"
      ]
     },
     "metadata": {
      "needs_background": "light"
     },
     "output_type": "display_data"
    }
   ],
   "source": [
    "plot_best_fit_line(model_one_x, x_one_x, y_one_x)"
   ]
  },
  {
   "cell_type": "markdown",
   "metadata": {},
   "source": [
    "# Exercise Option #1 - Standard Difficulty\n",
    "\n",
    "Answer the following questions about dataset 1:\n",
    "1. Take a look at the output of the `print_model_fit()` function in the \"Results and Visualization\" section above. What numbers did you expect to see printed if the linear regression code was working, and why?\n",
    "1. What numbers did you expect the model to predict when we gave it our new x values, -1.23, 0.66, and 1.98, and why?\n",
    "1. What did you expect to see on the graph if the linear regression code was working, and why?\n",
    "1. Pick some lines of code that you could change to continue testing that the linear regression worked properly. What lines did you choose and how did you change them? How did the output change, and why does that tell you that the code is working correctly?"
   ]
  },
  {
   "cell_type": "markdown",
   "metadata": {},
   "source": [
    "## Answers for Option \\#1\n",
    "\n",
    "**1.**  \n",
    "The equation used to calculate the example data set was $y = 0.3x + 1$, so the \"intercept\" should be 1 and the \"coefficient\" should be 0.3—but we added in some noise to make it look more like a real data set, so in reality the intercept and coefficient will be close to 1 and 0.3, but not exact.\n",
    "\n",
    "**2.**  \n",
    "We would just plug in the new x values to the equation. To get exact results, we should use the ```print_model_fit()``` function to figure out the equation for the best-fit line, as the $y = 0.3x + 1$ equation is obselete because of the addition of noise. I used the original values to get $y = 0.32606958x + 1.11825823$, so the test values will be (-1.23, 0.717), (0.66, 1.33), and (1.98, 1.76). However, because the data generation creates new random values each time, these will be incorrect if the setup is run again.\n",
    "\n",
    "**3.**  \n",
    "The graph should show a bunch of data points which have somewhat of a correlation, and a best-fit line which would be similar to the equation $y = 0.3x + 1$.\n",
    "\n",
    "**4.**  \n",
    "Well I changed a line in ```print_model_fit()``` just to change the output. It's now\n",
    "```python\n",
    "print('y-intercept: {i}  slope: {c}'.format(i=model.intercept_, c=model.coef_))\n",
    "```\n",
    "But the main changes I added was this code\n",
    "```python\n",
    "if opt1_change: # If we want to run the changes I added\n",
    "        \n",
    "    # test if predictions fall on best-fit line\n",
    "    testx = [[-1.23], [0.66], [1.98]]\n",
    "    testy = model.predict(testx)\n",
    "    matplotlib.pyplot.scatter(testx, testy, color=\"red\")\n",
    "\n",
    "    # show the original line\n",
    "    xog = numpy.linspace(MIN_X, MAX_X)\n",
    "    yog = 0.3*xog + 1\n",
    "    matplotlib.pyplot.plot(xog, yog, '-r', color=\"green\", linestyle=\"--\")\n",
    "```\n",
    "in the ```plot_best_fit_line()``` function to show how the test points -1.23, 0.66, and 1.98 fall on the best fit line (blue). The plotting of the test points (red dots to tell them apart from the rest of the graph) tells us that the model is indeed predicting based off the best fit line. And the green dashed line shows the original $y = 0.3 + 1$ line, to show how close the new line line is to the original. You can see these changes below."
   ]
  },
  {
   "cell_type": "code",
   "execution_count": 118,
   "metadata": {},
   "outputs": [
    {
     "data": {
      "image/png": "[encoded data removed]",
      "text/plain": [
       "<Figure size 432x288 with 1 Axes>"
      ]
     },
     "metadata": {
      "needs_background": "light"
     },
     "output_type": "display_data"
    }
   ],
   "source": [
    "plot_best_fit_line(model_one_x, x_one_x, y_one_x, True)"
   ]
  },
  {
   "cell_type": "markdown",
   "metadata": {},
   "source": [
    "### Fake Dataset 2 - Two x Values\n",
    "\n",
    "Let's look at a dataset has two inputs, like [the tree example in our notes](https://jennselby.github.io/MachineLearningCourseNotes/#linear-regression).\n",
    "\n",
    "**NOTE**: This will make it a littler harder to visualize, particularly because you cannot rotate the graph interactively in the Jupyter notebook. If you are interested in looking more closely at this graph, you can copy the code below in the next several cells into a file and run it through Python normally. This will open a graph window that will allow you to drag to rotate the graph."
   ]
  },
  {
   "cell_type": "code",
   "execution_count": 119,
   "metadata": {},
   "outputs": [],
   "source": [
    "# generate some normally distributed noise\n",
    "noise_two_x = numpy.random.normal(size=NUM_INPUTS)\n",
    "\n",
    "# randomly pick pairs of numbers for x\n",
    "x1_two_x = numpy.random.uniform(low=MIN_X, high=MAX_X, size=NUM_INPUTS)\n",
    "x2_two_x = numpy.random.uniform(low=MIN_X, high=MAX_X, size=NUM_INPUTS)\n",
    "\n",
    "y_two_x = 0.5 * x1_two_x - 2.7 * x2_two_x - 2 + noise_two_x"
   ]
  },
  {
   "cell_type": "code",
   "execution_count": 120,
   "metadata": {},
   "outputs": [],
   "source": [
    "data_two_x = pd.DataFrame(data=x1_two_x, columns = ['x1'])"
   ]
  },
  {
   "cell_type": "code",
   "execution_count": 121,
   "metadata": {},
   "outputs": [],
   "source": [
    "data_two_x['x2'] = x2_two_x\n",
    "data_two_x['y'] = y_two_x"
   ]
  },
  {
   "cell_type": "code",
   "execution_count": 122,
   "metadata": {},
   "outputs": [
    {
     "data": {
      "text/html": [
       "<div>\n",
       "<style scoped>\n",
       "    .dataframe tbody tr th:only-of-type {\n",
       "        vertical-align: middle;\n",
       "    }\n",
       "\n",
       "    .dataframe tbody tr th {\n",
       "        vertical-align: top;\n",
       "    }\n",
       "\n",
       "    .dataframe thead th {\n",
       "        text-align: right;\n",
       "    }\n",
       "</style>\n",
       "<table border=\"1\" class=\"dataframe\">\n",
       "  <thead>\n",
       "    <tr style=\"text-align: right;\">\n",
       "      <th></th>\n",
       "      <th>x1</th>\n",
       "      <th>x2</th>\n",
       "      <th>y</th>\n",
       "    </tr>\n",
       "  </thead>\n",
       "  <tbody>\n",
       "    <tr>\n",
       "      <th>0</th>\n",
       "      <td>-8.765237</td>\n",
       "      <td>5.474878</td>\n",
       "      <td>-21.212887</td>\n",
       "    </tr>\n",
       "    <tr>\n",
       "      <th>1</th>\n",
       "      <td>-7.916399</td>\n",
       "      <td>-2.804711</td>\n",
       "      <td>0.828535</td>\n",
       "    </tr>\n",
       "    <tr>\n",
       "      <th>2</th>\n",
       "      <td>6.822963</td>\n",
       "      <td>-1.396046</td>\n",
       "      <td>5.004210</td>\n",
       "    </tr>\n",
       "    <tr>\n",
       "      <th>3</th>\n",
       "      <td>5.912641</td>\n",
       "      <td>-9.776797</td>\n",
       "      <td>27.499029</td>\n",
       "    </tr>\n",
       "    <tr>\n",
       "      <th>4</th>\n",
       "      <td>4.121332</td>\n",
       "      <td>6.354355</td>\n",
       "      <td>-17.801037</td>\n",
       "    </tr>\n",
       "  </tbody>\n",
       "</table>\n",
       "</div>"
      ],
      "text/plain": [
       "         x1        x2          y\n",
       "0 -8.765237  5.474878 -21.212887\n",
       "1 -7.916399 -2.804711   0.828535\n",
       "2  6.822963 -1.396046   5.004210\n",
       "3  5.912641 -9.776797  27.499029\n",
       "4  4.121332  6.354355 -17.801037"
      ]
     },
     "execution_count": 122,
     "metadata": {},
     "output_type": "execute_result"
    }
   ],
   "source": [
    "data_two_x.head()"
   ]
  },
  {
   "cell_type": "code",
   "execution_count": 123,
   "metadata": {},
   "outputs": [
    {
     "name": "stdout",
     "output_type": "stream",
     "text": [
      "y-intercept: -2.0214829901227955  slope: [ 0.51529473 -2.69928798]\n"
     ]
    }
   ],
   "source": [
    "# use scikit-learn's linear regression model and fit to our data\n",
    "model_two_x = linear_model.LinearRegression()\n",
    "model_two_x.fit(data_two_x[['x1', 'x2']], data_two_x['y'])\n",
    "\n",
    "# Print out the parameters for the best fit plane\n",
    "print_model_fit(model_two_x)"
   ]
  },
  {
   "cell_type": "code",
   "execution_count": 124,
   "metadata": {},
   "outputs": [],
   "source": [
    "## Now create a function that can plot in 3D\n",
    "\n",
    "def plot_3d(model, x1, x2, y):\n",
    "    # 3D Plot\n",
    "    # create the figure\n",
    "    fig = matplotlib.pyplot.figure(1)\n",
    "    fig.suptitle('3D Data and Best-Fit Plane')\n",
    "    \n",
    "    # get the current axes, and tell them to do a 3D projection\n",
    "    axes = fig.gca(projection='3d')\n",
    "    axes.set_xlabel('x1')\n",
    "    axes.set_ylabel('x2')\n",
    "    axes.set_zlabel('y')\n",
    "    \n",
    "    \n",
    "    # put the generated points on the graph\n",
    "    axes.scatter(x1, x2, y)\n",
    "\n",
    "    # predict for input points across the graph to find the best-fit plane\n",
    "    # and arrange them into a grid for matplotlib\n",
    "    X1 = X2 = numpy.arange(MIN_X, MAX_X, 0.05)\n",
    "    X1, X2 = numpy.meshgrid(X1, X2)\n",
    "    Y = numpy.array(model.predict(list(zip(X1.flatten(), X2.flatten())))).reshape(X1.shape)\n",
    "\n",
    "    # put the predicted plane on the graph\n",
    "    axes.plot_surface(X1, X2, Y, alpha=0.1)\n",
    "\n",
    "    # show the plots\n",
    "    matplotlib.pyplot.show()"
   ]
  },
  {
   "cell_type": "code",
   "execution_count": 125,
   "metadata": {},
   "outputs": [
    {
     "data": {
      "image/png": "[encoded data removed]",
      "text/plain": [
       "<Figure size 432x288 with 1 Axes>"
      ]
     },
     "metadata": {
      "needs_background": "light"
     },
     "output_type": "display_data"
    }
   ],
   "source": [
    "# Now let's use the function\n",
    "plot_3d(model_two_x, x1_two_x, x2_two_x, y_two_x)"
   ]
  },
  {
   "cell_type": "markdown",
   "metadata": {},
   "source": [
    "# Exercise Option #2 - Standard Difficulty\n",
    "\n",
    "Now, answer the following questions about [Fake Dataset 2](#Fake-Dataset-2---Two-x-Values):\n",
    "1. Take a look at the output of the `print_model_fit()` function for this above dataset. What output did you expect to see printed if the linear regression code was working, and why?\n",
    "1. What did you expect to see on the graph if the linear regression code was working, and why?\n",
    "1. Pick some lines of code that you could change to continue testing that the linear regression worked properly. What lines did you choose and how did you change them? How did the output change, and why does that tell you that the code is working correctly?\n",
    "1. Explain any differences you noticed between working with dataset 1 and dataset 2."
   ]
  },
  {
   "cell_type": "code",
   "execution_count": null,
   "metadata": {},
   "outputs": [],
   "source": [
    "\n",
    "\n",
    "\n",
    "\n"
   ]
  },
  {
   "cell_type": "markdown",
   "metadata": {},
   "source": [
    "### Fake Dataset 3 - Quadratic\n",
    "\n",
    "The new equation we'll try to model is $y = 0.7x^2 - 0.4x + 1.5$.\n",
    "\n",
    "\n",
    "This dataset still just has one input, so the code is very similar to our first one. However, now the generating function is quadratic, so this one will be trickier to deal with.\n",
    "\n",
    "Again, we'll go through dataset generation, training, and visualization."
   ]
  },
  {
   "cell_type": "code",
   "execution_count": 126,
   "metadata": {},
   "outputs": [],
   "source": [
    "# randomly pick numbers for x\n",
    "x_quadratic = numpy.random.uniform(low=MIN_X, high=MAX_X, size=(NUM_INPUTS, 1))\n",
    "\n",
    "data_quadratic = pd.DataFrame(data=x_quadratic, columns=['x'])"
   ]
  },
  {
   "cell_type": "code",
   "execution_count": 127,
   "metadata": {},
   "outputs": [],
   "source": [
    "# Let's create some noise to make our data a little bit more spread out.\n",
    "# generate some normally distributed noise\n",
    "noise_quadratic = numpy.random.normal(size=NUM_INPUTS)"
   ]
  },
  {
   "cell_type": "code",
   "execution_count": 128,
   "metadata": {},
   "outputs": [],
   "source": [
    "# Let's generate the y values\n",
    "# Our equation:\n",
    "# y = 0.7x^2 - 0.4x + 1.5\n",
    "data_quadratic['y'] = 0.7 * data_quadratic['x'] * data_quadratic['x'] - 0.4 * data_quadratic['x'] + 1.5 + noise_quadratic\n"
   ]
  },
  {
   "cell_type": "code",
   "execution_count": 129,
   "metadata": {},
   "outputs": [
    {
     "name": "stdout",
     "output_type": "stream",
     "text": [
      "y-intercept: [23.39303104]  slope: [[-0.47070135]]\n"
     ]
    },
    {
     "data": {
      "image/png": "[encoded data removed]",
      "text/plain": [
       "<Figure size 432x288 with 1 Axes>"
      ]
     },
     "metadata": {
      "needs_background": "light"
     },
     "output_type": "display_data"
    }
   ],
   "source": [
    "# get a 1D array of the input data\n",
    "x_quadratic = data_quadratic['x'].values.reshape(-1, 1)\n",
    "y_quadratic = data_quadratic['y'].values.reshape(-1, 1)\n",
    "\n",
    "# Let's try use scikit-learn's linear regression model and fit to our data\n",
    "model_quadratic = linear_model.LinearRegression()\n",
    "model_quadratic.fit(x_quadratic, y_quadratic)\n",
    "\n",
    "# show results\n",
    "print_model_fit(model_quadratic)\n",
    "plot_best_fit_line(model_quadratic, x_quadratic, y_quadratic)"
   ]
  },
  {
   "cell_type": "markdown",
   "metadata": {},
   "source": [
    "# Exercise Option #3 - Advanced Difficulty\n",
    "\n",
    "First, look over and understand the data for [Fake Dataset 3](#Fake-Dataset-3---Quadratic).\n",
    "\n",
    "There are some issues here. Clearly the linear model that we have isn't working great.\n",
    "\n",
    "Your challenge is to write some new code that will better fit a linear model to this data. There are a couple different ways to do this, but all of them will involve some new code. If you have ideas but just aren't sure how to translate them into code, please ask for help!"
   ]
  },
  {
   "cell_type": "code",
   "execution_count": 130,
   "metadata": {},
   "outputs": [
    {
     "name": "stdout",
     "output_type": "stream",
     "text": [
      "rmse = 0.9108932326874037\n",
      "r^2 = 0.997576818227412\n",
      "coefficients: [[ 0.         -0.33675537  0.69747332]]\n"
     ]
    },
    {
     "data": {
      "image/png": "[encoded data removed]",
      "text/plain": [
       "<Figure size 432x288 with 1 Axes>"
      ]
     },
     "metadata": {
      "needs_background": "light"
     },
     "output_type": "display_data"
    }
   ],
   "source": [
    "# code modified from https://towardsdatascience.com/polynomial-regression-bbe8b9d97491\n",
    "# collaborated with Anya Patel\n",
    "\n",
    "# I chose to use a polynomial with degree 2 (quadratic) to match the equation which the data was modeled on (also a quadratic)\n",
    "# also just looking at the scatter plot of the data, it obviously follows a quadratic equation\n",
    "\n",
    "# I understand a very generalized version of this code but I can't explain in detail what the things do\n",
    "\n",
    "polynomial_features = PolynomialFeatures(degree = 2) # creates all possible \"feature matrixes\" with degree <2 to then weight each choice - documentation here https://scikit-learn.org/stable/modules/generated/sklearn.preprocessing.PolynomialFeatures.html\n",
    "# for degree = 2 and features = [a, b], this would return [1, a, b, ab, a^2, b^2]\n",
    "x_poly = polynomial_features.fit_transform(x_quadratic) # fits and transforms the data...I think this also calculates the coefficients/weights for each \"feature matrix option\"\n",
    "\n",
    "model_poly = LinearRegression() # create an empty model\n",
    "model_poly.fit(x_poly, y_quadratic) # fit the model with the data\n",
    "y_poly_pred = model_poly.predict(x_poly) # get predictions for each input x-value to then calculate rmse and r^2 (using the actual values vs. these calculated ones)\n",
    "\n",
    "# calculate and print rmse, r^2, and coefficients\n",
    "rmse = np.sqrt(mean_squared_error(y_quadratic, y_poly_pred))\n",
    "r2 = r2_score(y_quadratic, y_poly_pred)\n",
    "print(\"rmse =\", rmse)\n",
    "print(\"r^2 =\", r2)\n",
    "print(\"coefficients:\", model_poly.coef_) # these values should be similar to 0, -0.4, and 0.7\n",
    "\n",
    "# plot everything (you have to sort it for some reason...)\n",
    "matplotlib.pyplot.scatter(x_quadratic, y_quadratic)\n",
    "sort_axis = operator.itemgetter(0)\n",
    "sorted_zip = sorted(zip(x_quadratic, y_poly_pred), key=sort_axis)\n",
    "x_quadratic, y_poly_pred = zip(*sorted_zip)\n",
    "matplotlib.pyplot.plot(x_quadratic, y_poly_pred)\n",
    "matplotlib.pyplot.show()"
   ]
  },
  {
   "cell_type": "markdown",
   "metadata": {},
   "source": [
    "# Exercise Option #4 - Advanced Difficulty\n",
    "\n",
    "Try adding some [regularization](https://jennselby.github.io/MachineLearningCourseNotes/#regularization-ridge-lasso-and-elastic-net) to your linear regression model. This will get you some practice in using the sci-kit learn documentation to find new functions and figure out how to use them.\n",
    "\n"
   ]
  },
  {
   "cell_type": "code",
   "execution_count": 131,
   "metadata": {},
   "outputs": [],
   "source": [
    "### Your code here\n",
    "\n",
    "\n",
    "\n",
    "\n"
   ]
  }
 ],
 "metadata": {
  "kernelspec": {
   "display_name": "Python 3",
   "language": "python",
   "name": "python3"
  },
  "language_info": {
   "codemirror_mode": {
    "name": "ipython",
    "version": 3
   },
   "file_extension": ".py",
   "mimetype": "text/x-python",
   "name": "python",
   "nbconvert_exporter": "python",
   "pygments_lexer": "ipython3",
   "version": "3.8.5"
  }
 },
 "nbformat": 4,
 "nbformat_minor": 2
}
