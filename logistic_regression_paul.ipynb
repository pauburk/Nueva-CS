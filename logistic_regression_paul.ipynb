{
 "cells": [
  {
   "cell_type": "markdown",
   "metadata": {},
   "source": [
    "# Logistic Regression with Synthetic Data\n",
    "\n",
    "For more explanation of logistic regression, see\n",
    "1. [Our course notes](https://jennselby.github.io/MachineLearningCourseNotes/#binomial-logistic-regression)\n",
    "1. [This scikit-learn explanation](http://scikit-learn.org/stable/modules/linear_model.html#logistic-regression)\n",
    "1. [The full scikit-learn documentation of the LogisticRegression model class](http://scikit-learn.org/stable/modules/generated/sklearn.linear_model.LogisticRegression.html)\n",
    "\n",
    "## Instructions\n",
    "0. If you haven't already, follow [the setup instructions here](https://jennselby.github.io/MachineLearningCourseNotes/#setting-up-python3) to get all necessary software installed.\n",
    "0. Read through the code in the following sections:\n",
    "  * [Data Generation](#Data-Generation)\n",
    "  * [Visualization](#Visualization)\n",
    "  * [Model Training](#Model-Training)\n",
    "  * [Prediction](#Prediction)\n",
    "0. Complete at least one of the exercise options:\n",
    "  * [Exercise Option #1 - Standard Difficulty](#Exercise-Option-#1---Standard-Difficulty)\n",
    "  * [Exercise Option #2 - Advanced Difficulty](#Exercise-Option-#2---Advanced-Difficulty)\n",
    "  * [Exercise Option #3 - Advanced Difficulty](#Exercise-Option-#3---Advanced-Difficulty)"
   ]
  },
  {
   "cell_type": "code",
   "execution_count": 5,
   "metadata": {},
   "outputs": [],
   "source": [
    "import numpy.random # for generating our dataset\n",
    "from sklearn import linear_model # for fitting our model\n",
    "\n",
    "# force numpy not to use scientific notation, to make it easier to read the numbers the program prints out\n",
    "numpy.set_printoptions(suppress=True)\n",
    "\n",
    "# to display graphs in this notebook\n",
    "%matplotlib inline\n",
    "import matplotlib.pyplot"
   ]
  },
  {
   "cell_type": "markdown",
   "metadata": {},
   "source": [
    "## Data Generation\n",
    "\n",
    "As we did in the [linear regression notebook](https://nbviewer.jupyter.org/github/jennselby/MachineLearningCourseNotes/blob/master/assets/ipynb/LinearRegression.ipynb), we will be generating some fake data.\n",
    "\n",
    "In this fake dataset, we have two types of plants.\n",
    "* Plant A tends to be taller (average 60cm) and thinner (average 8cm).\n",
    "* Plant B tends to be shorter (average 58cm) and wider (average 10cm).\n",
    "* The heights and diameters of both plants are normally distributed (they follow a bell curve).\n",
    "\n",
    "* Class 0 will represent Plant A and Class 1 will represent Plant B"
   ]
  },
  {
   "cell_type": "code",
   "execution_count": 6,
   "metadata": {},
   "outputs": [],
   "source": [
    "NUM_INPUTS = 50 # inputs per class\n",
    "PLANT_A_AVG_HEIGHT = 60.0\n",
    "PLANT_A_AVG_WIDTH = 8.0\n",
    "PLANT_B_AVG_HEIGHT = 58.0\n",
    "PLANT_B_AVG_WIDTH = 10.0\n",
    "\n",
    "# Pick numbers randomly with a normal distribution centered around the averages\n",
    "\n",
    "plant_a_heights = numpy.random.normal(loc=PLANT_A_AVG_HEIGHT, size=NUM_INPUTS)\n",
    "plant_a_widths = numpy.random.normal(loc=PLANT_A_AVG_WIDTH, size=NUM_INPUTS)\n",
    "\n",
    "plant_b_heights = numpy.random.normal(loc=PLANT_B_AVG_HEIGHT, size=NUM_INPUTS)\n",
    "plant_b_widths = numpy.random.normal(loc=PLANT_B_AVG_WIDTH, size=NUM_INPUTS)\n",
    "\n",
    "# this creates a 2-dimensional matrix, with heights in the first column and widths in the second\n",
    "# the first half of rows are all plants of type a and the second half are type b\n",
    "plant_inputs = list(zip(numpy.append(plant_a_heights, plant_b_heights),\n",
    "                        numpy.append(plant_a_widths, plant_b_widths)))\n",
    "\n",
    "# this is a list where the first half are 0s (representing plants of type a) and the second half are 1s (type b)\n",
    "classes = [0]*NUM_INPUTS + [1]*NUM_INPUTS"
   ]
  },
  {
   "cell_type": "markdown",
   "metadata": {},
   "source": [
    "## Visualization\n",
    "\n",
    "Let's visualize our dataset, so that we can better understand what it looks like."
   ]
  },
  {
   "cell_type": "code",
   "execution_count": 7,
   "metadata": {},
   "outputs": [
    {
     "data": {
      "image/png": "[encoded data removed]",
      "text/plain": [
       "<Figure size 432x288 with 1 Axes>"
      ]
     },
     "metadata": {
      "needs_background": "light"
     },
     "output_type": "display_data"
    }
   ],
   "source": [
    "# create a figure and label it\n",
    "fig = matplotlib.pyplot.figure()\n",
    "fig.suptitle('Plant Data Set')\n",
    "matplotlib.pyplot.xlabel('Height')\n",
    "matplotlib.pyplot.ylabel('Width')\n",
    "\n",
    "# put the generated points on the graph\n",
    "a_scatter = matplotlib.pyplot.scatter(plant_a_heights, plant_a_widths, c=\"red\", marker=\"o\", label='plant a')\n",
    "b_scatter = matplotlib.pyplot.scatter(plant_b_heights, plant_b_widths, c=\"blue\", marker=\"^\", label='plant b')\n",
    "\n",
    "# add a legend to explain which points are which\n",
    "matplotlib.pyplot.legend(handles=[a_scatter, b_scatter])\n",
    "\n",
    "# show the graph\n",
    "matplotlib.pyplot.show()"
   ]
  },
  {
   "cell_type": "markdown",
   "metadata": {},
   "source": [
    "## Model Training\n",
    "\n",
    "Next, we want to fit our logistic regression model to our dataset."
   ]
  },
  {
   "cell_type": "code",
   "execution_count": 8,
   "metadata": {},
   "outputs": [
    {
     "name": "stdout",
     "output_type": "stream",
     "text": [
      "Intercept: [92.88722418]  Coefficients: [[-1.76705463  1.27392058]]\n"
     ]
    }
   ],
   "source": [
    "model = linear_model.LogisticRegression()\n",
    "model.fit(plant_inputs, classes)\n",
    "\n",
    "print('Intercept: {0}  Coefficients: {1}'.format(model.intercept_, model.coef_))"
   ]
  },
  {
   "cell_type": "markdown",
   "metadata": {},
   "source": [
    "## Prediction\n",
    "\n",
    "Now we can make some predictions using the trained model. Note that we are generating the new data exactly the same way that we generated the training data above."
   ]
  },
  {
   "cell_type": "code",
   "execution_count": 9,
   "metadata": {},
   "outputs": [
    {
     "name": "stdout",
     "output_type": "stream",
     "text": [
      "Plant A: 60.50971095127015 8.805781861567896\n",
      "Plant B: 55.646072175054826 10.732874091076008\n",
      "Class predictions: [0 1]\n",
      "Probabilities:\n",
      "[[0.94368725 0.05631275]\n",
      " [0.00026636 0.99973364]]\n"
     ]
    }
   ],
   "source": [
    "# Generate some new random values for two plants, one of each class\n",
    "new_a_height = numpy.random.normal(loc=PLANT_A_AVG_HEIGHT)\n",
    "new_a_width = numpy.random.normal(loc=PLANT_A_AVG_WIDTH)\n",
    "new_b_height = numpy.random.normal(loc=PLANT_B_AVG_HEIGHT)\n",
    "new_b_width = numpy.random.normal(loc=PLANT_B_AVG_WIDTH)\n",
    "\n",
    "# Pull the values into a matrix, because that is what the predict function wants\n",
    "inputs = [[new_a_height, new_a_width], [new_b_height, new_b_width]]\n",
    "\n",
    "# Print out the outputs for these new inputs\n",
    "print('Plant A: {0} {1}'.format(new_a_height, new_a_width))\n",
    "print('Plant B: {0} {1}'.format(new_b_height, new_b_width))\n",
    "print('Class predictions: {0}'.format(model.predict(inputs))) # guess which class\n",
    "print('Probabilities:\\n{0}'.format(model.predict_proba(inputs))) # give probability of each class"
   ]
  },
  {
   "cell_type": "markdown",
   "metadata": {},
   "source": [
    "# Exercise Option #1 - Standard Difficulty\n",
    "\n",
    "Answer the following questions. You can also use the graph below, if seeing the data visually helps you understand the data.\n",
    "1. What should we be expecting as the output for class predictions in the above cell? If the model is not giving the expected output, what are some of the reasons it might not be?\n",
    "1. How do the probabilities output by the above cell relate to the class predictions? Why do you think the model might be more or less confident in its predictions?\n",
    "1. If you change the averages in the data generation code (like PLANT_A_AVG_HEIGHT) and re-run the code, how do the predictions change, and why?\n",
    "1. Looking at the intercept and coefficient output further above, if a coefficient is negative, what has the model learned about this feature? In other words, if you took a datapoint and you increased the value of a feature that has a negative coefficient, what would you expect to happen to the probabilities the model gives this datapoint?"
   ]
  },
  {
   "cell_type": "markdown",
   "metadata": {},
   "source": [
    "## Answers for Option \\#1\n",
    "\n",
    "**1.**  \n",
    "The class predictions above are accurate; Plant A should be of Class 0 and Plant B should be of Class 1 because the test values (Plants A and B) were generated randomly using the same averages and Gaussian distribution that the data set was generated with. Because the test values are selected from a Gaussian distribution, it is unlikely that they will be far from the class averages and therefore should be easily identifiable as one class or the other. But if, for example, test case Plant A has height = 58.5 and width = 9 (unlikely), then the probabilites would show that Plant A would more likely be of Class 1 even though it was just a statistical fluke. Additionally (not in this case), it is possible that there could be more overlap between the two classes, which would make it hard for the model to give an accurate class prediction. However, in this case the probabilities would still be fairly accurate, but they would be much more ambigous (eg. ~40% vs ~60%).\n",
    "\n",
    "**2.**  \n",
    "I would assume that the class predictions would be chosen based on which probability is greater, so if it was 51% likely to be Class 0 and 49% likely to be Class 1, the class prediction would be 0. If the probabilities were tied by some miracle, I don't know what would happen (random choice, whichever class has a lower number, DNE?). There could also be a threshold value set up: for example, if we were trying to decide whether a tree was an oak or not, we could say that if the probability (that the tree is an oak) is greater than 75% than the tree is indeed an oak, but otherwise it's not. In this case, the model is quite confident of the class predictions becuase the probabilities are so strongly weighted (when I wrote this it was 0: 0.00302983, 1: 0.99697017). If the probabilities were more like (0: 0.4, 1: 0.6), the model would be less confident of the class predictions but I belive would still choose the same prediction.\n",
    "\n",
    "**3.**  \n",
    "Nothing fundamental will change, the numbers would shift a little but if the predictions/data are still based on the normal distribution curve and averages then the probabilites should still be heavily weighted and the predictions correct and confident. If you changned the averages of Class 0 and 1 to be closer together, then it would be harder to get a strong probability direction because there would be more overlap, and the confidence would decrease some.\n",
    "\n",
    "**4.**  \n",
    "if a coefficient is negative it means that the probability is going to be less because n/1+n goes to 0 as n goes to -inf"
   ]
  },
  {
   "cell_type": "markdown",
   "metadata": {},
   "source": [
    "# Exercise Option #3 - Advanced Difficulty\n",
    "\n",
    "If you have more than two classes, you can use multinomial logistic regression or the one vs. rest technique, where you use a binomial logistic regression for each class that you have and decide if it is or is not in that class. Try expanding the program with a third type and implementing your own one vs. rest models. To test if this is working, compare your output to running your expanded dataset through scikit-learn, which will automatically do one vs. rest if there are more than two classes."
   ]
  },
  {
   "cell_type": "code",
   "execution_count": 10,
   "metadata": {},
   "outputs": [],
   "source": [
    "# add a third type\n",
    "\n",
    "\n",
    "PLANT_C_AVG_HEIGHT = 62.0\n",
    "PLANT_C_AVG_WIDTH = 12.0\n",
    "\n",
    "# Pick numbers randomly with a normal distribution centered around the averages\n",
    "\n",
    "plant_c_heights = numpy.random.normal(loc=PLANT_C_AVG_HEIGHT, size=NUM_INPUTS)\n",
    "plant_c_widths = numpy.random.normal(loc=PLANT_C_AVG_WIDTH, size=NUM_INPUTS)"
   ]
  },
  {
   "cell_type": "code",
   "execution_count": 11,
   "metadata": {
    "scrolled": true
   },
   "outputs": [
    {
     "data": {
      "image/png": "[encoded data removed]",
      "text/plain": [
       "<Figure size 432x288 with 1 Axes>"
      ]
     },
     "metadata": {
      "needs_background": "light"
     },
     "output_type": "display_data"
    }
   ],
   "source": [
    "# vizualization\n",
    "\n",
    "\n",
    "# create a figure and label it\n",
    "fig = matplotlib.pyplot.figure()\n",
    "fig.suptitle('Three Classes Plant Data Set')\n",
    "matplotlib.pyplot.xlabel('Height')\n",
    "matplotlib.pyplot.ylabel('Width')\n",
    "\n",
    "# put the generated points on the graph\n",
    "a_scatter = matplotlib.pyplot.scatter(plant_a_heights, plant_a_widths, c=\"red\", marker=\"o\", label='plant a')\n",
    "b_scatter = matplotlib.pyplot.scatter(plant_b_heights, plant_b_widths, c=\"blue\", marker=\"^\", label='plant b')\n",
    "c_scatter = matplotlib.pyplot.scatter(plant_c_heights, plant_c_widths, c=\"green\", marker=\"*\", label='plant c')\n",
    "\n",
    "# add a legend to explain which points are which\n",
    "matplotlib.pyplot.legend(handles=[a_scatter, b_scatter, c_scatter])\n",
    "\n",
    "# show the graph\n",
    "matplotlib.pyplot.show()"
   ]
  },
  {
   "cell_type": "markdown",
   "metadata": {},
   "source": [
    "## Create three different models\n",
    "\n",
    "To implement my own one vs. rest technique, I created three seperate binomial models. The first model would determine whether the test case fit into class a/0 by combining classes b/1 and c/2 into one class. The second model would use the same method (combining classes 0 and 2 into one class) to determine if the test case fit into class 1. The third would combine classes 1 and 2.\n",
    "\n",
    "To train each model, I created a unique classes list (solutions) for each. So for model a, my classes list comprised of 50 0s, then 100 1s. A 0 meant that plant was in class 0 and a 1 meant that plant was in class 1 or 2.\n",
    "\n",
    "**IMPORTANT:** In my code or documentation, \"class 0\" is the same as \"class a\", \"class 1\" is the same as \"class b\", and \"class 2\" is the same as \"class c\"."
   ]
  },
  {
   "cell_type": "code",
   "execution_count": 12,
   "metadata": {},
   "outputs": [
    {
     "data": {
      "text/plain": [
       "LogisticRegression()"
      ]
     },
     "execution_count": 12,
     "metadata": {},
     "output_type": "execute_result"
    }
   ],
   "source": [
    "# create 3 models\n",
    "\n",
    "\n",
    "# this creates a 2-dimensional matrix, with heights in the first column and widths in the second\n",
    "# the first third of rows are all plants of type a, the second third are type b, and the last third are type c\n",
    "plant_inputs_3 = list(zip(numpy.append(plant_a_heights, numpy.append(plant_b_heights, plant_c_heights)),\n",
    "                        numpy.append(plant_a_widths, numpy.append(plant_b_widths, plant_c_widths))))\n",
    "\n",
    "classes_all = [0]*NUM_INPUTS + [1]*NUM_INPUTS + [2]*NUM_INPUTS # for using sklearn ovr later\n",
    "\n",
    "# class 0 is the class which is being tested to see if the test plant is part of that class, class 1 is everything else\n",
    "\n",
    "# for testing if the plant is part of class a/0\n",
    "classes_a = [0]*NUM_INPUTS + [1]*NUM_INPUTS + [1]*NUM_INPUTS\n",
    "model_a = linear_model.LogisticRegression()\n",
    "model_a.fit(plant_inputs_3, classes_a)\n",
    "\n",
    "# class b/1\n",
    "classes_b = [1]*NUM_INPUTS + [0]*NUM_INPUTS + [1]*NUM_INPUTS\n",
    "model_b = linear_model.LogisticRegression()\n",
    "model_b.fit(plant_inputs_3, classes_b)\n",
    "\n",
    "# class c/2\n",
    "classes_c = [1]*NUM_INPUTS + [1]*NUM_INPUTS + [0]*NUM_INPUTS\n",
    "model_c = linear_model.LogisticRegression()\n",
    "model_c.fit(plant_inputs_3, classes_c)"
   ]
  },
  {
   "cell_type": "code",
   "execution_count": 13,
   "metadata": {},
   "outputs": [
    {
     "name": "stdout",
     "output_type": "stream",
     "text": [
      "Test Plant A: 59.73787398722877 8.635307286432992\n",
      "Test Plant B: 59.184102038074194 10.28573873394555\n",
      "Test Plant C: 61.92168609717022 12.775760200828605\n"
     ]
    }
   ],
   "source": [
    "# create test values\n",
    "\n",
    "\n",
    "# Generate a single new plant for each class\n",
    "test_a_height = numpy.random.normal(loc=PLANT_A_AVG_HEIGHT)\n",
    "test_a_width = numpy.random.normal(loc=PLANT_A_AVG_WIDTH)\n",
    "test_b_height = numpy.random.normal(loc=PLANT_B_AVG_HEIGHT)\n",
    "test_b_width = numpy.random.normal(loc=PLANT_B_AVG_WIDTH)\n",
    "test_c_height = numpy.random.normal(loc=PLANT_C_AVG_HEIGHT)\n",
    "test_c_width = numpy.random.normal(loc=PLANT_C_AVG_WIDTH)\n",
    "\n",
    "# Print out the test values\n",
    "print('Test Plant A: {0} {1}'.format(test_a_height, test_a_width))\n",
    "print('Test Plant B: {0} {1}'.format(test_b_height, test_b_width))\n",
    "print('Test Plant C: {0} {1}'.format(test_c_height, test_c_width))\n",
    "\n",
    "# Pull the values into a matrix, because that is what the predict function wants\n",
    "inputs = [[[test_a_height, test_a_width]], [[test_b_height, test_b_width]], [[test_c_height, test_c_width]]]\n",
    "print_statements = [\"Test Plant A:\", \"\\nTest Plant B:\", \"\\nTest Plant C:\"] # this is for use in the for loop (next code cell)"
   ]
  },
  {
   "cell_type": "markdown",
   "metadata": {},
   "source": [
    "## Predictions\n",
    "\n",
    "Here I go through each test case (a, b, and c) using a for loop. Inside that loop I run each model over the current test case to get predictions and probabilities. If a prediction is 0, it means that the model believes that the test case is of the class linked to the model. This is because when I trained the models, I used 0 to represent one of the three classes and 1 to represent the other two. Therefore, the prediction will be 0 if the test case is of that model's class. ```model_a``` is linked to class a (or 0), ```model_b``` is linked to class b (or 1), and ```model_c``` is linked to class c (or 2).\n",
    "\n",
    "Sometimes the models will output two classes as correct. This is because I'm testing each case individually whether it fits into one class of not, so theoretically the test case could fit into overlap between two classes and be predicted as both seperately. To fix this, I additionally compare the percentages that the test case is part of class 0 (the class linked to the model) and output the class which has the largest percentage.\n",
    "\n",
    "At the end, I also use a built-in sklearn ovr model to double check my results (even though I can already figure out if they're correct or not)."
   ]
  },
  {
   "cell_type": "code",
   "execution_count": 14,
   "metadata": {},
   "outputs": [
    {
     "name": "stdout",
     "output_type": "stream",
     "text": [
      "Test Plant A:\n",
      "Class predictions (0 is true and 1 is false): a:[0] b:[1] c:[1]\n",
      "Probabilities: a:[[0.65981517 0.34018483]] b:[[0.10639655 0.89360345]] c:[[0.00324043 0.99675957]]\n",
      "Based on all three probabilities this test is of class a\n",
      "\n",
      "Test Plant B:\n",
      "Class predictions (0 is true and 1 is false): a:[1] b:[0] c:[1]\n",
      "Probabilities: a:[[0.07331572 0.92668428]] b:[[0.62373666 0.37626334]] c:[[0.02220434 0.97779566]]\n",
      "Based on all three probabilities this test is of class b\n",
      "\n",
      "Test Plant C:\n",
      "Class predictions (0 is true and 1 is false): a:[1] b:[1] c:[0]\n",
      "Probabilities: a:[[0.00573352 0.99426648]] b:[[0.02774664 0.97225336]] c:[[0.99716514 0.00283486]]\n",
      "Based on all three probabilities this test is of class c\n"
     ]
    }
   ],
   "source": [
    "# predictions\n",
    "\n",
    "\n",
    "for j in range(len(inputs)): # go through each test case\n",
    "    \n",
    "    i = inputs[j]\n",
    "    p = print_statements[j]\n",
    "    \n",
    "    # get predictions from each model\n",
    "    pred_a = model_a.predict(i)\n",
    "    pred_b = model_b.predict(i)\n",
    "    pred_c = model_c.predict(i)\n",
    "    \n",
    "    # get probabilities from each model\n",
    "    prob_a = model_a.predict_proba(i)\n",
    "    prob_b = model_b.predict_proba(i)\n",
    "    prob_c = model_c.predict_proba(i)\n",
    "    \n",
    "    print(p)\n",
    "    print(\"Class predictions (0 is true and 1 is false): a:{0} b:{1} c:{2}\".format(pred_a, pred_b, pred_c))\n",
    "    print(\"Probabilities: a:{0} b:{1} c:{2}\".format(prob_a, prob_b, prob_c))\n",
    "    \n",
    "    # to account if two models think the test case is part of two seperate classes\n",
    "    \n",
    "    prob_a_true = float(str(prob_a[0][0]).split()[0]) # get the probability that the test case is of class a\n",
    "    prob_b_true = float(str(prob_b[0][0]).split()[0]) # class b\n",
    "    prob_c_true = float(str(prob_c[0][0]).split()[0]) # class c\n",
    "    \n",
    "    if prob_a_true > prob_b_true and prob_a_true > prob_c_true: # if prob of a is biggest\n",
    "        print(\"Based on all three probabilities this test is of class a\")\n",
    "        \n",
    "    elif prob_b_true > prob_c_true and prob_b_true > prob_a_true: # if prob of b is biggest\n",
    "        print(\"Based on all three probabilities this test is of class b\")\n",
    "        \n",
    "    elif prob_c_true > prob_a_true and prob_c_true > prob_b_true: # if prob of c is biggest\n",
    "        print(\"Based on all three probabilities this test is of class c\")"
   ]
  },
  {
   "cell_type": "code",
   "execution_count": 15,
   "metadata": {},
   "outputs": [
    {
     "name": "stdout",
     "output_type": "stream",
     "text": [
      "Test Plant A:\n",
      "Class prediction: [0]\n",
      "Probabilities for class [a b c]: [[0.85751292 0.13827572 0.00421135]]\n",
      "\n",
      "Test Plant B:\n",
      "Class prediction: [1]\n",
      "Probabilities for class [a b c]: [[0.10193262 0.86719615 0.03087123]]\n",
      "\n",
      "Test Plant C:\n",
      "Class prediction: [2]\n",
      "Probabilities for class [a b c]: [[0.00556304 0.02692162 0.96751534]]\n"
     ]
    }
   ],
   "source": [
    "# double check using sklearn ovr (even though my code works correctly)\n",
    "\n",
    "\n",
    "from sklearn.linear_model import LogisticRegression\n",
    "from sklearn.preprocessing import StandardScaler\n",
    "\n",
    "clf = LogisticRegression(random_state=0, multi_class='ovr')\n",
    "model_ovr = clf.fit(plant_inputs_3, classes_all)\n",
    "\n",
    "for j in range(len(inputs)): # go through each test case\n",
    "    \n",
    "    i = inputs[j]\n",
    "    p = print_statements[j]\n",
    "    \n",
    "    # get prediction\n",
    "    pred = model_ovr.predict(i)\n",
    "    \n",
    "    # get probability\n",
    "    prob = model_ovr.predict_proba(i)\n",
    "    \n",
    "    print(p)\n",
    "    print(\"Class prediction: {0}\".format(pred))\n",
    "    print(\"Probabilities for class [a b c]: {0}\".format(prob))"
   ]
  },
  {
   "cell_type": "markdown",
   "metadata": {},
   "source": [
    "## Model Validation"
   ]
  },
  {
   "cell_type": "code",
   "execution_count": 16,
   "metadata": {},
   "outputs": [],
   "source": [
    "# create test values\n",
    "# I create 1000 test values for each class to ensure robust metrics\n",
    "\n",
    "\n",
    "values = []\n",
    "classes_true = []\n",
    "\n",
    "for i in range(1000): # test values of class a\n",
    "    h = numpy.random.normal(loc=PLANT_A_AVG_HEIGHT)\n",
    "    w = numpy.random.normal(loc=PLANT_A_AVG_WIDTH)\n",
    "    values.append([[h, w]])\n",
    "    classes_true.append(0)\n",
    "    \n",
    "for i in range(1000): # class b\n",
    "    h = numpy.random.normal(loc=PLANT_B_AVG_HEIGHT)\n",
    "    w = numpy.random.normal(loc=PLANT_B_AVG_WIDTH)\n",
    "    values.append([[h, w]])\n",
    "    classes_true.append(1)\n",
    "    \n",
    "for i in range(1000): # class c\n",
    "    h = numpy.random.normal(loc=PLANT_C_AVG_HEIGHT)\n",
    "    w = numpy.random.normal(loc=PLANT_C_AVG_WIDTH)\n",
    "    values.append([[h, w]])\n",
    "    classes_true.append(2)"
   ]
  },
  {
   "cell_type": "code",
   "execution_count": 17,
   "metadata": {
    "scrolled": true
   },
   "outputs": [],
   "source": [
    "# predict each test value and create a list of class predictions\n",
    "\n",
    "\n",
    "classes_pred = []\n",
    "    \n",
    "for t in values:\n",
    "\n",
    "    # get predictions from each model\n",
    "    pred_a = model_a.predict(t)\n",
    "    pred_b = model_b.predict(t)\n",
    "    pred_c = model_c.predict(t)\n",
    "\n",
    "    # get probabilities from each model\n",
    "    prob_a = model_a.predict_proba(t)\n",
    "    prob_b = model_b.predict_proba(t)\n",
    "    prob_c = model_c.predict_proba(t)\n",
    "\n",
    "    # to account if two models think the test case is part of two seperate classes\n",
    "    \n",
    "    prob_a_true = float(str(prob_a[0][0]).split()[0]) # get the probability that the test case is of class a\n",
    "    prob_b_true = float(str(prob_b[0][0]).split()[0]) # class b\n",
    "    prob_c_true = float(str(prob_c[0][0]).split()[0]) # class c\n",
    "\n",
    "    if prob_a_true > prob_b_true and prob_a_true > prob_c_true: # if prob of a is biggest\n",
    "        classes_pred.append(0)\n",
    "        \n",
    "    elif prob_b_true > prob_c_true and prob_b_true > prob_a_true: # if prob of b is biggest\n",
    "        classes_pred.append(1)\n",
    "        \n",
    "    elif prob_c_true > prob_a_true and prob_c_true > prob_b_true: # if prob of c is biggest\n",
    "        classes_pred.append(2)"
   ]
  },
  {
   "cell_type": "code",
   "execution_count": 35,
   "metadata": {
    "scrolled": true
   },
   "outputs": [
    {
     "name": "stdout",
     "output_type": "stream",
     "text": [
      "precision for class [a, b, c]: [0.9122807  0.88122605 0.98378926]\n",
      "avg precision (calculated using average='micro'): 0.925\n",
      "avg precision (calculated using (a+b+c)/3): 0.9257653366666667\n",
      "\n",
      "recall for class [a, b, c]: [0.884 0.92  0.971]\n",
      "avg recall (calculated using average='micro'): 0.925\n",
      "avg recall (calculated using (a+b+c)/3): 0.9249999999999999\n",
      "\n",
      "f1 score for class [a, b, c]: [0.89791772 0.90019569 0.97735279]\n",
      "avg f1 score (calculated using average='micro'): 0.925\n",
      "avg f1 score (calculated using (a+b+c)/3): 0.9251554\n",
      "\n",
      "accuracy score: 0.925\n"
     ]
    }
   ],
   "source": [
    "# calculate the precision, recall, f1 score, and accuracy using the built in sklearn functions\n",
    "\n",
    "\n",
    "from sklearn.metrics import precision_score\n",
    "from sklearn.metrics import recall_score\n",
    "from sklearn.metrics import f1_score\n",
    "from sklearn.metrics import accuracy_score\n",
    "import re\n",
    "\n",
    "# precision\n",
    "\n",
    "p = precision_score(classes_true, classes_pred, average=None)\n",
    "print(\"precision for class [a, b, c]:\", p)\n",
    "print(\"avg precision (calculated using average=\\'micro\\'):\", precision_score(classes_true, classes_pred, average=\"micro\"))\n",
    "\n",
    "# compute average precision using the precision from each class (average=None)\n",
    "total = 0\n",
    "for n in re.findall(\"[\\d\\.]+\", str(p)):\n",
    "    total += float(n)\n",
    "print(\"avg precision (calculated using (a+b+c)/3):\", total/3)\n",
    "\n",
    "# recall\n",
    "\n",
    "r = recall_score(classes_true, classes_pred, average=None)\n",
    "print(\"\\nrecall for class [a, b, c]:\", r)\n",
    "print(\"avg recall (calculated using average=\\'micro\\'):\", recall_score(classes_true, classes_pred, average=\"micro\"))\n",
    "\n",
    "# compute average recall using the recall from each class (average=None)\n",
    "total = 0\n",
    "for n in re.findall(\"[\\d\\.]+\", str(r)):\n",
    "    total += float(n)\n",
    "print(\"avg recall (calculated using (a+b+c)/3):\", total/3)\n",
    "\n",
    "# f1 score\n",
    "\n",
    "f1 = f1_score(classes_true, classes_pred, average=None)\n",
    "print(\"\\nf1 score for class [a, b, c]:\", f1)\n",
    "print(\"avg f1 score (calculated using average=\\'micro\\'):\", f1_score(classes_true, classes_pred, average=\"micro\"))\n",
    "\n",
    "# compute average f1 score using the f1 score from each class (average=None)\n",
    "total = 0\n",
    "for n in re.findall(\"[\\d\\.]+\", str(f1)):\n",
    "    total += float(n)\n",
    "print(\"avg f1 score (calculated using (a+b+c)/3):\", total/3)\n",
    "\n",
    "# accuracy\n",
    "\n",
    "print(\"\\naccuracy score:\", accuracy_score(classes_true, classes_pred))"
   ]
  },
  {
   "cell_type": "markdown",
   "metadata": {},
   "source": [
    "_What I think of my results:_\n",
    "\n",
    "I think that these results are actually pretty darn good, it is hard to get both a high recall and precision and I think in this case it is best to have both high recall and precision rather than optimizing for one, as there is no need to catch every single plant of class a.\n",
    "\n",
    "\n",
    "_When using accuracy to measure your model's performance on a classification problem:_\n",
    "\n",
    "1. **What is the best possible score you could get?** This would be 1, because you would get all the test cases correct, and accuracy is just correct/total, so if correct == total then accuracy would be 1.\n",
    "\n",
    "2. **If your model always predicted the same class no matter what the input, what score would you get on a test set where 85% of the items were in that class?** 0.85, (0.85x / 1x).\n",
    "\n",
    "3. **What is the worst possible score you can get on a dataset that only has two classes?** You could get 0, if you got every single test case wrong."
   ]
  },
  {
   "cell_type": "code",
   "execution_count": null,
   "metadata": {},
   "outputs": [],
   "source": [
    "# this was my first iteration (I tried to compute tp, fp, tn, and fn by hand)\n",
    "# I spent long enough on this I deemed it worthy of saving just in case I ever wanted it again\n",
    "\n",
    "# tp = {\"a\": 0, \"b\": 0, \"c\": 0}\n",
    "# fp = {\"a\": 0, \"b\": 0, \"c\": 0}\n",
    "# tn = {\"a\": 0, \"b\": 0, \"c\": 0}\n",
    "# fn = {\"a\": 0, \"b\": 0, \"c\": 0}\n",
    "\n",
    "# if prob_a_true > prob_b_true and prob_a_true > prob_c_true: # of class a/0\n",
    "#         if c == 0:\n",
    "#             tp[\"a\"] += 1\n",
    "#             tn[\"b\"] += 1\n",
    "#             tn[\"c\"] += 1\n",
    "#         elif c == 1:\n",
    "#             fp[\"a\"] += 1\n",
    "#             fn[\"b\"] += 1\n",
    "#             tn[\"c\"] += 1\n",
    "#         elif c == 2:\n",
    "#             fp[\"a\"] += 1\n",
    "#             tn[\"b\"] += 1\n",
    "#             fn[\"c\"] += 1\n",
    "#         else:\n",
    "#             print(\"error!\")\n",
    "# elif prob_b_true > prob_c_true and prob_b_true > prob_a_true: # of class b/1\n",
    "#     if c == 0:\n",
    "#         fp[\"b\"] += 1\n",
    "#         fn[\"a\"] += 1\n",
    "#         tn[\"c\"] += 1\n",
    "#     elif c == 1:\n",
    "#         tp[\"b\"] += 1\n",
    "#         tn[\"c\"] += 1\n",
    "#         tn[\"a\"] += 1\n",
    "#     elif c == 2:\n",
    "#         fp[\"b\"] += 1\n",
    "#         fn[\"c\"] += 1\n",
    "#         tn[\"a\"] += 1\n",
    "#     else:\n",
    "#         print(\"error!\")\n",
    "# elif prob_c_true > prob_a_true and prob_c_true > prob_b_true: # of class c/2\n",
    "#     if c == 0:\n",
    "#         fp[\"c\"] += 1\n",
    "#         fn[\"a\"] += 1\n",
    "#         tn[\"b\"] += 1\n",
    "#     elif c == 1:\n",
    "#         fp[\"c\"] += 1\n",
    "#         fn[\"b\"] += 1\n",
    "#         tn[\"a\"] += 1\n",
    "#     elif c == 2:\n",
    "#         tp[\"c\"] += 1\n",
    "#         tn[\"a\"] += 1\n",
    "#         tn[\"b\"] += 1\n",
    "#     else:\n",
    "#         print(\"error!\")"
   ]
  }
 ],
 "metadata": {
  "kernelspec": {
   "display_name": "Python 3",
   "language": "python",
   "name": "python3"
  },
  "language_info": {
   "codemirror_mode": {
    "name": "ipython",
    "version": 3
   },
   "file_extension": ".py",
   "mimetype": "text/x-python",
   "name": "python",
   "nbconvert_exporter": "python",
   "pygments_lexer": "ipython3",
   "version": "3.8.5"
  }
 },
 "nbformat": 4,
 "nbformat_minor": 2
}
