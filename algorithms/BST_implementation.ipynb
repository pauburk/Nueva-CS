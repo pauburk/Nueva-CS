{
 "cells": [
  {
   "cell_type": "markdown",
   "id": "1cb0f4c3-d1bb-48d5-8645-38e4b8a52c39",
   "metadata": {},
   "source": [
    "# Self-implementation: Binary Tree"
   ]
  },
  {
   "cell_type": "code",
   "execution_count": 2,
   "id": "a8d3e3f0-9cdf-4630-aa2a-0f155999a7a4",
   "metadata": {},
   "outputs": [],
   "source": [
    "import time\n",
    "import math\n",
    "import numpy as np\n",
    "import matplotlib.pyplot as plt"
   ]
  },
  {
   "cell_type": "code",
   "execution_count": 3,
   "id": "677297fd-f93f-48ef-8f29-6328d2f8f276",
   "metadata": {},
   "outputs": [],
   "source": [
    "class Node:\n",
    "    def __init__(self, val=None):\n",
    "        self.left = None\n",
    "        self.right = None\n",
    "        self.val = val\n",
    "        \n",
    "    # insert value to tree\n",
    "    def insert(self, val):\n",
    "        if not self.val: # if node does not yet have a value\n",
    "            self.val = val\n",
    "        \n",
    "        if self.val == val: # if duplicate value\n",
    "            return\n",
    "        \n",
    "        if self.val < val: # go to right\n",
    "            \n",
    "            if self.right: # if self.right already exists\n",
    "                self.right.insert(val)\n",
    "                return\n",
    "            \n",
    "            self.right = Node(val) # if self.right doesn't exist\n",
    "            return\n",
    "        \n",
    "        # same as right\n",
    "        if self.left:\n",
    "            self.left.insert(val)\n",
    "            return\n",
    "        self.left = Node(val)\n",
    "    \n",
    "    # find minimum value in tree\n",
    "    def find_min(self):\n",
    "        current = self\n",
    "        while current.left is not None:\n",
    "            current = current.left\n",
    "        return current.val"
   ]
  },
  {
   "cell_type": "markdown",
   "id": "51f9e26a-b698-429b-a402-595d4341f273",
   "metadata": {},
   "source": [
    "### Testing"
   ]
  },
  {
   "cell_type": "code",
   "execution_count": 34,
   "id": "3bcbe298-2ed9-4603-94b0-04e57ad82d3d",
   "metadata": {},
   "outputs": [],
   "source": [
    "lengths = [10, 20, 50, 100, 500, 1000, 5000, 10000, 20000, 50000, 100000, 200000, 500000, 1000000]"
   ]
  },
  {
   "cell_type": "code",
   "execution_count": 35,
   "id": "daef1e92-25d4-4570-9fe4-1bea031b5627",
   "metadata": {},
   "outputs": [],
   "source": [
    "insert_times = {}\n",
    "find_min_times = {}"
   ]
  },
  {
   "cell_type": "code",
   "execution_count": 36,
   "id": "94338a2a-ea7b-4765-bf68-91af69985713",
   "metadata": {},
   "outputs": [],
   "source": [
    "for l in lengths:\n",
    "    nums = [np.random.randint(-2000, 2000) for i in range(l)]\n",
    "    bst = Node()\n",
    "    for n in nums:\n",
    "        bst.insert(n)\n",
    "        \n",
    "    Ti = time.time()\n",
    "    bst.insert(11)\n",
    "    Tf = time.time()\n",
    "    insert_times[l] = Tf-Ti\n",
    "    \n",
    "    Ti = time.time()\n",
    "    m = bst.find_min()\n",
    "    Tf = time.time()\n",
    "    find_min_times[l] = Tf-Ti"
   ]
  },
  {
   "cell_type": "markdown",
   "id": "48633b11-d4cc-4954-b660-cc5ec3e0522a",
   "metadata": {},
   "source": [
    "*Insert times:*"
   ]
  },
  {
   "cell_type": "code",
   "execution_count": 39,
   "id": "a38354e8-b62b-4ffb-b7fb-f86c7f7a8689",
   "metadata": {},
   "outputs": [
    {
     "data": {
      "text/plain": [
       "[<matplotlib.lines.Line2D at 0x112d2da00>]"
      ]
     },
     "execution_count": 39,
     "metadata": {},
     "output_type": "execute_result"
    },
    {
     "data": {
      "image/png": "[encoded data removed]",
      "text/plain": [
       "<Figure size 432x288 with 1 Axes>"
      ]
     },
     "metadata": {
      "needs_background": "light"
     },
     "output_type": "display_data"
    }
   ],
   "source": [
    "plt.plot(insert_times.keys(), insert_times.values())"
   ]
  },
  {
   "cell_type": "markdown",
   "id": "82be1f3d-5fe7-4647-95f4-f33001f87b6c",
   "metadata": {},
   "source": [
    "*Find min times:*"
   ]
  },
  {
   "cell_type": "code",
   "execution_count": 40,
   "id": "c023979e-0fe1-4578-9358-b4b8d0b7fff4",
   "metadata": {},
   "outputs": [
    {
     "data": {
      "text/plain": [
       "[<matplotlib.lines.Line2D at 0x1128b8c70>]"
      ]
     },
     "execution_count": 40,
     "metadata": {},
     "output_type": "execute_result"
    },
    {
     "data": {
      "image/png": "[encoded data removed]",
      "text/plain": [
       "<Figure size 432x288 with 1 Axes>"
      ]
     },
     "metadata": {
      "needs_background": "light"
     },
     "output_type": "display_data"
    }
   ],
   "source": [
    "plt.plot(find_min_times.keys(), find_min_times.values())"
   ]
  },
  {
   "cell_type": "markdown",
   "id": "92972940-e96b-4748-8627-181ee20b1cfe",
   "metadata": {},
   "source": [
    "The graphs aren't super helpful because I can only run this with a limited number of sizes for the tree because otherwise my computer will die, however I can tell you that I am happy with my implementation and the functions do work for inserting new values and finding the minimum. So, I can only hope that it works in O(log n) time, but unless I screwed up the tree structure badly it should..."
   ]
  },
  {
   "cell_type": "code",
   "execution_count": null,
   "id": "551dcb05-d52b-4934-b3a2-6b986e090bd0",
   "metadata": {},
   "outputs": [],
   "source": []
  }
 ],
 "metadata": {
  "kernelspec": {
   "display_name": "Nueva CS",
   "language": "python",
   "name": "nueva_cs"
  },
  "language_info": {
   "codemirror_mode": {
    "name": "ipython",
    "version": 3
   },
   "file_extension": ".py",
   "mimetype": "text/x-python",
   "name": "python",
   "nbconvert_exporter": "python",
   "pygments_lexer": "ipython3",
   "version": "3.9.10"
  }
 },
 "nbformat": 4,
 "nbformat_minor": 5
}
