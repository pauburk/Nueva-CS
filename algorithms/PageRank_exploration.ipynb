{
 "cells": [
  {
   "cell_type": "markdown",
   "metadata": {
    "id": "fPAbZ613OLWF"
   },
   "source": [
    "In this Jupyter notebook, you'll explore the PageRank algorithm and how changing the topology of a network of webpages can affect the PageRank of individual pages. \n",
    "\n",
    "First, let's create a simple data abstraction to represent a webpage."
   ]
  },
  {
   "cell_type": "code",
   "execution_count": 25,
   "metadata": {
    "id": "w_hR72zOOLWL"
   },
   "outputs": [],
   "source": [
    "class Webpage:    \n",
    "    # fixed_pagerank is used to model an external page whose PR should not be updated\n",
    "    # The default, -1, means that the page's PR should be updated.\n",
    "    def __init__(self, name, fixed_pagerank=-1):\n",
    "        # create a new webpage, with no links\n",
    "        self.name = name\n",
    "        self.links = []\n",
    "        self.backlinks = []\n",
    "        self.fixed_pagerank = fixed_pagerank\n",
    "\n",
    "    def add_link(self, target_page):\n",
    "        if not target_page in self.links:\n",
    "            self.links.append(target_page)\n",
    "        # when adding a link, add a backlink on the target\n",
    "        target_page.add_back_link(self) \n",
    "        \n",
    "    def add_back_link(self, source_page):\n",
    "        if not source_page in self.backlinks:\n",
    "            self.backlinks.append(source_page)\n",
    "\n",
    "    # debugging methods        \n",
    "    def print_links(self):\n",
    "        for page in self.links:\n",
    "            print (page.name + \", \")\n",
    "    def print_back_links(self):\n",
    "        for page in self.backlinks:\n",
    "            print (page.name + \", \")\n",
    "    def __str__(self):\n",
    "        return self.name        "
   ]
  },
  {
   "cell_type": "markdown",
   "metadata": {
    "id": "M2dkxozNOLWM"
   },
   "source": [
    "We provide a simple iterative implementation of PageRank:"
   ]
  },
  {
   "cell_type": "code",
   "execution_count": 26,
   "metadata": {
    "id": "Frg6n0mmOLWN"
   },
   "outputs": [],
   "source": [
    "class PageRank:\n",
    "    def __init__(self, pages, damping_factor=0.85, debug=False, supernode=True):\n",
    "        self.page_rank_table = {}\n",
    "        self.damping_factor = damping_factor\n",
    "        self.debug=debug\n",
    "        self.supernode=supernode\n",
    "\n",
    "        # create a \"supernode\" that has a link and backlink to every page\n",
    "        self.pages = pages.copy() # don't update the actual pages\n",
    "        supernode = Webpage(\"supernode\")\n",
    "        \n",
    "        if self.supernode:\n",
    "            for page in self.pages:\n",
    "                if page.fixed_pagerank == -1:\n",
    "                    page.add_link(supernode)\n",
    "                    supernode.add_link(page)\n",
    "\n",
    "            self.pages.append(supernode)\n",
    "        for page in self.pages:\n",
    "            # initialize each page's PR to be 1/n, where n is the total number of pages\n",
    "            self.page_rank_table[page] = 1/len(self.pages)\n",
    "          \n",
    "    def run_page_rank(self, iterations):\n",
    "        for ii in range(iterations):\n",
    "            if self.debug:\n",
    "                print(\"\\nIteration #\" + str(ii))\n",
    "                self.print_table(show_supernode=True)\n",
    "                \n",
    "            new_page_rank_table = {}\n",
    "            for page in self.page_rank_table:\n",
    "                if page.fixed_pagerank == -1:\n",
    "                    new_page_rank = 0\n",
    "                    for backlink in page.backlinks:\n",
    "                        new_page_rank += self.page_rank_table[backlink] / len(backlink.links)\n",
    "                    new_page_rank_table[page] = (1-self.damping_factor) + self.damping_factor * new_page_rank\n",
    "                else:\n",
    "                    new_page_rank_table[page] = page.fixed_pagerank\n",
    "            self.page_rank_table = new_page_rank_table\n",
    "\n",
    "    # debugging & validation methods\n",
    "    def calc_average_pagerank(self):\n",
    "        sum_pagerank = 0\n",
    "        for page in self.page_rank_table:\n",
    "            sum_pagerank += self.page_rank_table[page]\n",
    "        return sum_pagerank / len(self.page_rank_table)\n",
    "\n",
    "    def print_table(self, show_supernode=False):\n",
    "        for page in self.page_rank_table:\n",
    "            if str(page) != \"supernode\" or show_supernode:\n",
    "                print(str(page) + \": \" + str(self.page_rank_table[page]))        "
   ]
  },
  {
   "cell_type": "markdown",
   "metadata": {
    "id": "RdmYQ84AOLWO"
   },
   "source": [
    "Create a simple network, consisting of two pages, each linking to each other, and calculate the PageRank of each one."
   ]
  },
  {
   "cell_type": "code",
   "execution_count": 27,
   "metadata": {
    "colab": {
     "base_uri": "https://localhost:8080/"
    },
    "executionInfo": {
     "elapsed": 189,
     "status": "ok",
     "timestamp": 1649355596481,
     "user": {
      "displayName": "Wesley Chao",
      "userId": "04789629959281616568"
     },
     "user_tz": 420
    },
    "id": "OiFgl1z9OLWO",
    "outputId": "c6b4822d-6504-479f-a6b2-cbe0c1b392b6"
   },
   "outputs": [
    {
     "name": "stdout",
     "output_type": "stream",
     "text": [
      "A: 1.4661654135338342\n",
      "B: 0.6165413533834585\n",
      "C: 0.6165413533834585\n",
      "D: 0.6165413533834585\n",
      "D: 0.48120300751879697\n",
      "D: 0.3101503759398496\n",
      "D: 0.3101503759398496\n",
      "D: 0.3101503759398496\n",
      "D: 0.3101503759398496\n",
      "D: 0.3101503759398496\n"
     ]
    }
   ],
   "source": [
    "pages = []\n",
    "pageHome = Webpage(\"A\")\n",
    "pageTeam = Webpage(\"B\")\n",
    "pageAbout = Webpage(\"C\")\n",
    "pageBlog = Webpage(\"D\")\n",
    "pageReviews = Webpage(\"D\")\n",
    "pageR1 = Webpage(\"D\")\n",
    "pageR2 = Webpage(\"D\")\n",
    "pageR3 = Webpage(\"D\")\n",
    "pageR4 = Webpage(\"D\")\n",
    "pageR5 = Webpage(\"D\")\n",
    "\n",
    "pageHome.add_link(pageTeam)\n",
    "pageHome.add_link(pageAbout)\n",
    "pageHome.add_link(pageBlog)\n",
    "#pageHome.add_link(pageReviews)\n",
    "\n",
    "pageTeam.add_link(pageHome)\n",
    "pageAbout.add_link(pageHome)\n",
    "pageBlog.add_link(pageHome)\n",
    "pageReviews.add_link(pageHome)\n",
    "\n",
    "pageBlog.add_link(pageReviews)\n",
    "\n",
    "pageReviews.add_link(pageR1)\n",
    "pageReviews.add_link(pageR2)\n",
    "pageReviews.add_link(pageR3)\n",
    "pageReviews.add_link(pageR4)\n",
    "pageReviews.add_link(pageR5)\n",
    "\n",
    "\n",
    "pages.append(pageHome)\n",
    "pages.append(pageTeam)\n",
    "pages.append(pageAbout)\n",
    "pages.append(pageBlog)\n",
    "pages.append(pageReviews)\n",
    "pages.append(pageR1)\n",
    "pages.append(pageR2)\n",
    "pages.append(pageR3)\n",
    "pages.append(pageR4)\n",
    "pages.append(pageR5)\n",
    "\n",
    "pageRank = PageRank(pages, debug=False, damping_factor=0.75, supernode=False)\n",
    "pageRank.run_page_rank(100)\n",
    "pageRank.print_table(show_supernode=True)"
   ]
  },
  {
   "cell_type": "markdown",
   "metadata": {
    "id": "7U9f3IpROLWQ"
   },
   "source": [
    "# Assignment Exercises\n",
    "Complete all three of the following exercises.\n",
    "\n",
    "### Exercise 1\n",
    "While the inputs to Google's overall ranking algorithm are secret, the output of PageRank is not. There are tools that  allow you to enter a URL and see the Google PageRank of the corresponding page. For example, if you enter nuevaschool.org into [this one](https://dnschecker.org/pagerank.php), it will tell you that Nueva's homepage has a PR of 4.\n",
    "\n",
    "Two notes:\n",
    "1. Recall that this is not the raw output -- the PageRank algorithm can produce an arbitrarily high output, so to make it easier to understand, Google maps the output to a scale of 0-10, where 0 is low and 10 is high.\n",
    "2. This tool is kind of a pain to use since it requires that you enter a captcha every time you submit. If you find a better one, let me know! Just be careful, as many of these tools have a bunch of spammy ads on them.\n",
    "\n",
    "#### Questions\n",
    "1. Play around with this tool and report back the values of some webpages. Can you find webpages of each rank between 0 and 10? \n",
    "\n",
    "2. Describe what kinds of webpages are represented in each rank. For example, you might say that pages of rank 9 are usually the homepages of the services of the biggest Internet companies in the world."
   ]
  },
  {
   "cell_type": "markdown",
   "metadata": {
    "id": "UNS5gPyyOLWR"
   },
   "source": [
    "**(1)**\n",
    "\n",
    "0. \n",
    "1. soleds.com\n",
    "2. danaflowerbasket.com, petsdelightlosaltos.com\n",
    "3. andrusia.com, henryhneff.com\n",
    "4. nuevaschool.org, verily.com, surviv.io, marcuswestberg.photo\n",
    "5. coolmathgames.com, sweetgreen.com, peets.com, dnschecker.org, statefarm.com, att.com, firefox.com, berkeley.edu, xfinity.com, t-mobile.com, huawei.com\n",
    "6. wix.com, squarespace.com, dashlane.com, wikipedia.org, netflix.com, target.com, starbucks.com, espn.com, spotify.com\n",
    "7. apple.com, yahoo.com, mail.google.com, blogger.com, adobe.com, cnn.com, twitch.tv\n",
    "8. drive.google.com, calendar.google.com, medium.com, github.com, amazon.com, nytimes.com\n",
    "9. \n",
    "10. google.com, youtube.com, instagram.com, facebook.com, twitter.com\n",
    "\n",
    "**(2)**\n",
    "\n",
    "I couldn't unfortunately run the pagecheck on my website, I guess it doesn't like github pages or something (I tried Jen Selby's ML notes as well). For some reason I couldn't find a page with rank 9, all the popular ones seemed to be either 10 or 8. I found rank 1 by typing in random letters into the site until it gave me a 1, soleds.com is actually for sale so the page is super super basic, probably nothing linking to it.\n",
    "\n",
    "*Rank 10:* Pages which have billions of users (exception of twitter), these pages just have so much traffic and links to them.\n",
    "\n",
    "*Rank 7-8:* Google Drive and Calendar, plus super popular sites like Amazon and NYTimes. This sections seems like pages with less traffic than rank 10, but with lots of links to those pages. Rank 8 seems to be more like tools and productive sites, rank 7 is super large companies like Apple or Adobe.\n",
    "\n",
    "*Rank 5-6:* I was very surprised that Wikipedia ranked a 6, it seems like it is so popular and gets so much usage but I guess there aren't a lot of pages that link to it or something? But also it has the extensive inter-links between pages, so I don't really know. And it also shows up first in google search every time, so maybe that has to do with some of the hidden secrets of google search algorithms. 5 and 6 seem to be smaller (relatively) companies and stores, 6 is more larger online companies like netflix or espn or squarespace and some larger stores like target, whereas 5 is more smaller stores or online pages.\n",
    "\n",
    "*Rank 3-4:* Very similar to rank 5 but just smaller, like Berkeley is 5 and Nueva is 4. A less well-known company or popular individual page would be here, like my favorite photographer. Rank 3 has Andrew Alexander's personal website along with the author of one of my favorite book series but isn't well known.\n",
    "\n",
    "*Rank 2-1:* For rank 2 I found small local stores that aren't chains and have a website, for rank 1 I typed in random letters until I got sometihng of rank 1. I tried google searching obscure queries and going to the last pages on the 14th section or whatever, but I usually got rank 2 for all of those. I think that google doesn't actually include these rank 1's because at some point it would switch back to the popular sites, just with less relevance to the search query.\n",
    "\n",
    "*Rank 0:* I could not find anything for rank 0, but I would assume a blank page with no links to it would fall under here."
   ]
  },
  {
   "cell_type": "markdown",
   "metadata": {},
   "source": [
    "### Exercise 2\n",
    "In the given implementation, we set the damping factor to 0.85 and we initialize each page's PageRank to be 1/n, where n is the total number of pages. \n",
    "\n",
    "1. What happens if you change the damping factor? How does the algorithm behave with a small damping factor vs a large one? \n",
    "2. What happens if you change the initial PageRank?\n",
    "\n",
    "You may want to use the `debug=True` flag and the `calc_average_pagerank` method to get a better look at what's going on."
   ]
  },
  {
   "cell_type": "code",
   "execution_count": 28,
   "metadata": {},
   "outputs": [
    {
     "name": "stdout",
     "output_type": "stream",
     "text": [
      "A: 1.1503683576570773\n",
      "B: 0.9383456119219026\n",
      "C: 0.9383456119219026\n",
      "D: 0.9383456119219026\n",
      "D: 0.9469172805960951\n",
      "D: 0.9157819546766016\n",
      "D: 0.9157819546766016\n",
      "D: 0.9157819546766016\n",
      "D: 0.9157819546766016\n",
      "D: 0.9157819546766016\n"
     ]
    },
    {
     "data": {
      "text/plain": [
       "0.9491232247401887"
      ]
     },
     "execution_count": 28,
     "metadata": {},
     "output_type": "execute_result"
    }
   ],
   "source": [
    "pageRank01 = PageRank(pages, debug=False, damping_factor=0.1, supernode=False)\n",
    "pageRank01.run_page_rank(100)\n",
    "pageRank01.print_table(show_supernode=True)\n",
    "pageRank01.calc_average_pagerank()"
   ]
  },
  {
   "cell_type": "code",
   "execution_count": 29,
   "metadata": {},
   "outputs": [
    {
     "name": "stdout",
     "output_type": "stream",
     "text": [
      "A: 1.3234081539166285\n",
      "B: 0.8602840128263857\n",
      "C: 0.8602840128263857\n",
      "D: 0.8602840128263857\n",
      "D: 0.8575355016032982\n",
      "D: 0.7857306459001374\n",
      "D: 0.7857306459001374\n",
      "D: 0.7857306459001374\n",
      "D: 0.7857306459001374\n",
      "D: 0.7857306459001374\n"
     ]
    },
    {
     "data": {
      "text/plain": [
       "0.8690448923499773"
      ]
     },
     "execution_count": 29,
     "metadata": {},
     "output_type": "execute_result"
    }
   ],
   "source": [
    "pageRank25 = PageRank(pages, debug=False, damping_factor=0.25, supernode=False)\n",
    "pageRank25.run_page_rank(100)\n",
    "pageRank25.print_table(show_supernode=True)\n",
    "pageRank25.calc_average_pagerank()"
   ]
  },
  {
   "cell_type": "code",
   "execution_count": 30,
   "metadata": {},
   "outputs": [
    {
     "name": "stdout",
     "output_type": "stream",
     "text": [
      "A: 1.4933920704845813\n",
      "B: 0.7488986784140969\n",
      "C: 0.7488986784140969\n",
      "D: 0.7488986784140969\n",
      "D: 0.6872246696035242\n",
      "D: 0.5572687224669604\n",
      "D: 0.5572687224669604\n",
      "D: 0.5572687224669604\n",
      "D: 0.5572687224669604\n",
      "D: 0.5572687224669604\n"
     ]
    },
    {
     "data": {
      "text/plain": [
       "0.7213656387665199"
      ]
     },
     "execution_count": 30,
     "metadata": {},
     "output_type": "execute_result"
    }
   ],
   "source": [
    "pageRank50 = PageRank(pages, debug=False, damping_factor=0.5, supernode=False)\n",
    "pageRank50.run_page_rank(100)\n",
    "pageRank50.print_table(show_supernode=True)\n",
    "pageRank50.calc_average_pagerank()"
   ]
  },
  {
   "cell_type": "code",
   "execution_count": 31,
   "metadata": {},
   "outputs": [
    {
     "name": "stdout",
     "output_type": "stream",
     "text": [
      "A: 1.4661654135338342\n",
      "B: 0.6165413533834585\n",
      "C: 0.6165413533834585\n",
      "D: 0.6165413533834585\n",
      "D: 0.48120300751879697\n",
      "D: 0.3101503759398496\n",
      "D: 0.3101503759398496\n",
      "D: 0.3101503759398496\n",
      "D: 0.3101503759398496\n",
      "D: 0.3101503759398496\n"
     ]
    },
    {
     "data": {
      "text/plain": [
       "0.5347744360902256"
      ]
     },
     "execution_count": 31,
     "metadata": {},
     "output_type": "execute_result"
    }
   ],
   "source": [
    "pageRank75 = PageRank(pages, debug=False, damping_factor=0.75, supernode=False)\n",
    "pageRank75.run_page_rank(100)\n",
    "pageRank75.print_table(show_supernode=True)\n",
    "pageRank75.calc_average_pagerank()"
   ]
  },
  {
   "cell_type": "code",
   "execution_count": 32,
   "metadata": {},
   "outputs": [
    {
     "name": "stdout",
     "output_type": "stream",
     "text": [
      "A: 1.137817866568147\n",
      "B: 0.4413453589883733\n",
      "C: 0.4413453589883733\n",
      "D: 0.4413453589883733\n",
      "D: 0.29860541100249716\n",
      "D: 0.14479081155566084\n",
      "D: 0.14479081155566084\n",
      "D: 0.14479081155566084\n",
      "D: 0.14479081155566084\n",
      "D: 0.14479081155566084\n"
     ]
    },
    {
     "data": {
      "text/plain": [
       "0.34844134123140685"
      ]
     },
     "execution_count": 32,
     "metadata": {},
     "output_type": "execute_result"
    }
   ],
   "source": [
    "pageRank90 = PageRank(pages, debug=False, damping_factor=0.9, supernode=False)\n",
    "pageRank90.run_page_rank(100)\n",
    "pageRank90.print_table(show_supernode=True)\n",
    "pageRank90.calc_average_pagerank()"
   ]
  },
  {
   "cell_type": "markdown",
   "metadata": {},
   "source": [
    "**(1)**\n",
    "\n",
    "Changing the dampening factor changes the distribution of the PageRanks. The lower the dampening factor (see first example of 0.1), the lower the probability that a user continues surfing. The way the equation is set up is: $$(1-d) + d(\\frac{PR}{c}\\textrm{ terms}),$$ so when the dampening factor is low the equation will depend less on the terms and more on $1-d$. (In the extreme case of $d=0$, each rank would be 1 because the terms are multiplied by zero). That is why there is less distribution in the scores when using a lower dampening factor. A byproduct of this is that the average of the scores is actually higher (in this set of pages), because the 5 review pages which have the lowest score are much closer to 1 than when the dampening factor is higher. When the dampening factor is higher (closer to 1), the distribution goes up (larger range between top and bottom ranked pages), and the average goes down because of the 5 review pages.\n",
    "\n",
    "**(2)**\n",
    "\n",
    "It's not shown above but I played around with the initial value of each page and no matter what I did the scores all converged to the same numbers each time. "
   ]
  },
  {
   "cell_type": "markdown",
   "metadata": {},
   "source": [
    "### Exercise 3\n",
    "In class, we discussed the major advantage of PageRank compared to the search engine algorithms that came before it: since PageRank is determined by backlinks, which the owner of a page has less control over, it's highly resistant to *keyword stuffing*, which is the practice of putting a ton of keywords on your webpage so that the indexer thinks your page is relevant to all those keywords. In this exercise, we'll explore what kinds of practices can manipulate PageRank; this is known as search engine optimization, or SEO, and is a $80 billion industry in the US alone.\n",
    "\n",
    "\n",
    "1. You've just created a startup, and you need to make a website for your startup. You have four pages to start with:\n",
    "    1. Homepage\n",
    "    2. About (the story of the company)\n",
    "    3. Team (the bios of you and your cofounders)\n",
    "    4. Blog\n",
    "    \n",
    "  How should you structure your website so that your homepage has the highest possible PageRank? List the PageRank values for each of the four webpages in this structure.\n",
    "  \n",
    "  \n",
    "2. Your product is a hit! Glowing reviews are rolling in, and you want to add a page for Reviews that links to each of the 5 reviews so far. How does this affect your homepage's PageRank? Should you restructure your website, and if so, how? List the PageRank values for each of the five webpages you control (Home, About, Team, Blog, and Reviews).\n",
    "\n",
    "3. It's been a month, and you've produced a blog post every week (total of 4 posts). Your homepage still has a link to the most recent post, and each post links to the post before it and after it, like so:\n",
    "\n",
    "  `Home ==> Blog post 4 <==> Blog post 3 <==> Blog post 2 <== Blog post 1`\n",
    "  \n",
    " How does this affect your homepage's PageRank? Should you restructure your website, and if so, how? (You may want to refer to your answer to question 1.) Do websites you visit structure their sites in this way? If not, what are some reasons why?\n",
    " \n",
    "4. Copycats of your product are popping up all over the web, and your homepage is getting pushed off the first page of search results. You decide you need to take drastic action. What are some unscrupulous ways you might boost the PageRank of your homepage quickly? Model each of these and give their impact on the PageRank of your homepage.\n",
    "\n",
    "5. Google figures out what you're doing, and they send you a nice cease and desist letter telling you to stop, or they'll remove your website from the search results entirely. What are some legitimate ways you might boost the PageRank of your homepage?"
   ]
  },
  {
   "cell_type": "markdown",
   "metadata": {},
   "source": []
  },
  {
   "cell_type": "markdown",
   "metadata": {},
   "source": [
    "**(1)**"
   ]
  },
  {
   "cell_type": "code",
   "execution_count": 34,
   "metadata": {},
   "outputs": [
    {
     "name": "stdout",
     "output_type": "stream",
     "text": [
      "Home: 1.8571428571423418\n",
      "About: 0.7142857142855654\n",
      "Team: 0.7142857142855654\n",
      "Blog: 0.7142857142855654\n"
     ]
    }
   ],
   "source": [
    "pages = []\n",
    "pageHome = Webpage(\"Home\")\n",
    "pageAbout = Webpage(\"About\")\n",
    "pageTeam = Webpage(\"Team\")\n",
    "pageBlog = Webpage(\"Blog\")\n",
    "\n",
    "pageHome.add_link(pageAbout)\n",
    "pageHome.add_link(pageTeam)\n",
    "pageHome.add_link(pageBlog)\n",
    "\n",
    "pageAbout.add_link(pageHome)\n",
    "pageTeam.add_link(pageHome)\n",
    "pageBlog.add_link(pageHome)\n",
    "\n",
    "pages.append(pageHome)\n",
    "pages.append(pageAbout)\n",
    "pages.append(pageTeam)\n",
    "pages.append(pageBlog)\n",
    "\n",
    "pageRank = PageRank(pages, debug=False, damping_factor=0.75, supernode=False)\n",
    "pageRank.run_page_rank(100)\n",
    "pageRank.print_table(show_supernode=True)"
   ]
  },
  {
   "cell_type": "markdown",
   "metadata": {},
   "source": [
    "**(2)**\n",
    "\n",
    "You don't need to restructure."
   ]
  },
  {
   "cell_type": "code",
   "execution_count": 35,
   "metadata": {},
   "outputs": [
    {
     "name": "stdout",
     "output_type": "stream",
     "text": [
      "Home: 1.236133122028526\n",
      "About: 0.4817749603803486\n",
      "Team: 0.4817749603803486\n",
      "Blog: 0.4817749603803486\n",
      "Reviews: 0.6624405705229793\n",
      "R1: 0.3328050713153724\n",
      "R2: 0.3328050713153724\n",
      "R3: 0.3328050713153724\n",
      "R4: 0.3328050713153724\n",
      "R5: 0.3328050713153724\n"
     ]
    }
   ],
   "source": [
    "pages = []\n",
    "pageHome = Webpage(\"Home\")\n",
    "pageAbout = Webpage(\"About\")\n",
    "pageTeam = Webpage(\"Team\")\n",
    "pageBlog = Webpage(\"Blog\")\n",
    "pageReviews = Webpage(\"Reviews\")\n",
    "pageR1 = Webpage(\"R1\")\n",
    "pageR2 = Webpage(\"R2\")\n",
    "pageR3 = Webpage(\"R3\")\n",
    "pageR4 = Webpage(\"R4\")\n",
    "pageR5 = Webpage(\"R5\")\n",
    "\n",
    "pageHome.add_link(pageAbout)\n",
    "pageHome.add_link(pageTeam)\n",
    "pageHome.add_link(pageBlog)\n",
    "pageHome.add_link(pageReviews)\n",
    "\n",
    "pageAbout.add_link(pageHome)\n",
    "pageTeam.add_link(pageHome)\n",
    "pageBlog.add_link(pageHome)\n",
    "pageReviews.add_link(pageHome)\n",
    "\n",
    "pageBlog.add_link(pageReviews)\n",
    "\n",
    "pageReviews.add_link(pageR1)\n",
    "pageReviews.add_link(pageR2)\n",
    "pageReviews.add_link(pageR3)\n",
    "pageReviews.add_link(pageR4)\n",
    "pageReviews.add_link(pageR5)\n",
    "\n",
    "\n",
    "pages.append(pageHome)\n",
    "pages.append(pageAbout)\n",
    "pages.append(pageTeam)\n",
    "pages.append(pageBlog)\n",
    "pages.append(pageReviews)\n",
    "pages.append(pageR1)\n",
    "pages.append(pageR2)\n",
    "pages.append(pageR3)\n",
    "pages.append(pageR4)\n",
    "pages.append(pageR5)\n",
    "\n",
    "pageRank = PageRank(pages, debug=False, damping_factor=0.75, supernode=False)\n",
    "pageRank.run_page_rank(100)\n",
    "pageRank.print_table(show_supernode=True)"
   ]
  },
  {
   "cell_type": "markdown",
   "metadata": {},
   "source": [
    "**(3)**"
   ]
  },
  {
   "cell_type": "markdown",
   "metadata": {},
   "source": [
    "Structured as given:"
   ]
  },
  {
   "cell_type": "code",
   "execution_count": 38,
   "metadata": {},
   "outputs": [
    {
     "name": "stdout",
     "output_type": "stream",
     "text": [
      "Home: 0.9438202247191011\n",
      "About: 0.42696629213483145\n",
      "Team: 0.42696629213483145\n",
      "B1: 0.5052573641056787\n",
      "B2: 0.6806863042818099\n",
      "B3: 1.1484968114181597\n",
      "B4: 0.8576525964166414\n",
      "Reviews: 0.42696629213483145\n",
      "R1: 0.3033707865168539\n",
      "R2: 0.3033707865168539\n",
      "R3: 0.3033707865168539\n",
      "R4: 0.3033707865168539\n",
      "R5: 0.3033707865168539\n"
     ]
    }
   ],
   "source": [
    "pages = []\n",
    "pageHome = Webpage(\"Home\")\n",
    "pageAbout = Webpage(\"About\")\n",
    "pageTeam = Webpage(\"Team\")\n",
    "pageB1 = Webpage(\"B1\")\n",
    "pageB2 = Webpage(\"B2\")\n",
    "pageB3 = Webpage(\"B3\")\n",
    "pageB4 = Webpage(\"B4\")\n",
    "pageReviews = Webpage(\"Reviews\")\n",
    "pageR1 = Webpage(\"R1\")\n",
    "pageR2 = Webpage(\"R2\")\n",
    "pageR3 = Webpage(\"R3\")\n",
    "pageR4 = Webpage(\"R4\")\n",
    "pageR5 = Webpage(\"R5\")\n",
    "\n",
    "pageHome.add_link(pageAbout)\n",
    "pageHome.add_link(pageTeam)\n",
    "pageHome.add_link(pageB4)\n",
    "pageHome.add_link(pageReviews)\n",
    "\n",
    "pageAbout.add_link(pageHome)\n",
    "pageTeam.add_link(pageHome)\n",
    "pageReviews.add_link(pageHome)\n",
    "\n",
    "pageB4.add_link(pageB3)\n",
    "pageB3.add_link(pageB4)\n",
    "pageB3.add_link(pageB2)\n",
    "pageB2.add_link(pageB3)\n",
    "pageB2.add_link(pageB1)\n",
    "\n",
    "pageReviews.add_link(pageR1)\n",
    "pageReviews.add_link(pageR2)\n",
    "pageReviews.add_link(pageR3)\n",
    "pageReviews.add_link(pageR4)\n",
    "pageReviews.add_link(pageR5)\n",
    "\n",
    "\n",
    "pages.append(pageHome)\n",
    "pages.append(pageAbout)\n",
    "pages.append(pageTeam)\n",
    "pages.append(pageB1)\n",
    "pages.append(pageB2)\n",
    "pages.append(pageB3)\n",
    "pages.append(pageB4)\n",
    "pages.append(pageReviews)\n",
    "pages.append(pageR1)\n",
    "pages.append(pageR2)\n",
    "pages.append(pageR3)\n",
    "pages.append(pageR4)\n",
    "pages.append(pageR5)\n",
    "\n",
    "pageRank = PageRank(pages, debug=False, damping_factor=0.75, supernode=False)\n",
    "pageRank.run_page_rank(100)\n",
    "pageRank.print_table(show_supernode=True)"
   ]
  },
  {
   "cell_type": "markdown",
   "metadata": {},
   "source": [
    "As you can see blog post 3 (B3) now has the highest PageRank, with Home behind that and B4 close behind Home. However, if we add a link from each blog post to the homepage, it will fix this problem."
   ]
  },
  {
   "cell_type": "code",
   "execution_count": 42,
   "metadata": {},
   "outputs": [
    {
     "name": "stdout",
     "output_type": "stream",
     "text": [
      "Home: 2.1542251786154227\n",
      "About: 0.6539172209903917\n",
      "Team: 0.6539172209903917\n",
      "B1: 0.3538125153978813\n",
      "B2: 0.415250061591525\n",
      "B3: 0.6610002463661\n",
      "B4: 0.8191672825819167\n",
      "Reviews: 0.6539172209903917\n",
      "R1: 0.33173965262379895\n",
      "R2: 0.33173965262379895\n",
      "R3: 0.33173965262379895\n",
      "R4: 0.33173965262379895\n",
      "R5: 0.33173965262379895\n"
     ]
    }
   ],
   "source": [
    "pages = []\n",
    "pageHome = Webpage(\"Home\")\n",
    "pageAbout = Webpage(\"About\")\n",
    "pageTeam = Webpage(\"Team\")\n",
    "pageB1 = Webpage(\"B1\")\n",
    "pageB2 = Webpage(\"B2\")\n",
    "pageB3 = Webpage(\"B3\")\n",
    "pageB4 = Webpage(\"B4\")\n",
    "pageReviews = Webpage(\"Reviews\")\n",
    "pageR1 = Webpage(\"R1\")\n",
    "pageR2 = Webpage(\"R2\")\n",
    "pageR3 = Webpage(\"R3\")\n",
    "pageR4 = Webpage(\"R4\")\n",
    "pageR5 = Webpage(\"R5\")\n",
    "\n",
    "pageHome.add_link(pageAbout)\n",
    "pageHome.add_link(pageTeam)\n",
    "pageHome.add_link(pageB4)\n",
    "pageHome.add_link(pageReviews)\n",
    "\n",
    "pageAbout.add_link(pageHome)\n",
    "pageTeam.add_link(pageHome)\n",
    "pageReviews.add_link(pageHome)\n",
    "\n",
    "pageB4.add_link(pageB3)\n",
    "pageB3.add_link(pageB4)\n",
    "pageB3.add_link(pageB2)\n",
    "pageB2.add_link(pageB3)\n",
    "pageB2.add_link(pageB1)\n",
    "\n",
    "pageB1.add_link(pageHome)\n",
    "pageB2.add_link(pageHome)\n",
    "pageB3.add_link(pageHome)\n",
    "pageB4.add_link(pageHome)\n",
    "\n",
    "pageReviews.add_link(pageR1)\n",
    "pageReviews.add_link(pageR2)\n",
    "pageReviews.add_link(pageR3)\n",
    "pageReviews.add_link(pageR4)\n",
    "pageReviews.add_link(pageR5)\n",
    "\n",
    "\n",
    "pages.append(pageHome)\n",
    "pages.append(pageAbout)\n",
    "pages.append(pageTeam)\n",
    "pages.append(pageB1)\n",
    "pages.append(pageB2)\n",
    "pages.append(pageB3)\n",
    "pages.append(pageB4)\n",
    "pages.append(pageReviews)\n",
    "pages.append(pageR1)\n",
    "pages.append(pageR2)\n",
    "pages.append(pageR3)\n",
    "pages.append(pageR4)\n",
    "pages.append(pageR5)\n",
    "\n",
    "pageRank = PageRank(pages, debug=False, damping_factor=0.75, supernode=False)\n",
    "pageRank.run_page_rank(100)\n",
    "pageRank.print_table(show_supernode=True)"
   ]
  },
  {
   "cell_type": "markdown",
   "metadata": {},
   "source": [
    "We could also structure the blog posts similar to the reviews, where we have a master blog page and that links to each review, but I liked having it structured so users could navigate between blog posts easier.\n",
    "\n",
    "I would say yes, the websites that I visit are structured similarly, where each blog post (or whatever similar thing) links to the previous and next one, and each post has a link back to the homepage. There is often a master blog page as well that links to all of the blog posts but each blog post doesn't link back to it. I would say that just makes it easier for users to find the post they are looking for if there are a lot of them. See a version for that below."
   ]
  },
  {
   "cell_type": "code",
   "execution_count": 44,
   "metadata": {},
   "outputs": [
    {
     "name": "stdout",
     "output_type": "stream",
     "text": [
      "Home: 2.3281620028031504\n",
      "About: 0.6865303755255907\n",
      "Team: 0.6865303755255907\n",
      "Blog: 0.6865303755255907\n",
      "B1: 0.4837127253395196\n",
      "B2: 0.5229326760427239\n",
      "B3: 0.6798124788555411\n",
      "B4: 0.5229326760427239\n",
      "Reviews: 0.6865303755255907\n",
      "R1: 0.3358162969406988\n",
      "R2: 0.3358162969406988\n",
      "R3: 0.3358162969406988\n",
      "R4: 0.3358162969406988\n",
      "R5: 0.3358162969406988\n"
     ]
    }
   ],
   "source": [
    "pages = []\n",
    "pageHome = Webpage(\"Home\")\n",
    "pageAbout = Webpage(\"About\")\n",
    "pageTeam = Webpage(\"Team\")\n",
    "pageBlog = Webpage(\"Blog\")\n",
    "pageB1 = Webpage(\"B1\")\n",
    "pageB2 = Webpage(\"B2\")\n",
    "pageB3 = Webpage(\"B3\")\n",
    "pageB4 = Webpage(\"B4\")\n",
    "pageReviews = Webpage(\"Reviews\")\n",
    "pageR1 = Webpage(\"R1\")\n",
    "pageR2 = Webpage(\"R2\")\n",
    "pageR3 = Webpage(\"R3\")\n",
    "pageR4 = Webpage(\"R4\")\n",
    "pageR5 = Webpage(\"R5\")\n",
    "\n",
    "pageHome.add_link(pageAbout)\n",
    "pageHome.add_link(pageTeam)\n",
    "pageHome.add_link(pageBlog)\n",
    "pageHome.add_link(pageReviews)\n",
    "\n",
    "pageAbout.add_link(pageHome)\n",
    "pageTeam.add_link(pageHome)\n",
    "pageBlog.add_link(pageHome)\n",
    "pageReviews.add_link(pageHome)\n",
    "\n",
    "pageBlog.add_link(pageB1)\n",
    "pageBlog.add_link(pageB2)\n",
    "pageBlog.add_link(pageB3)\n",
    "pageBlog.add_link(pageB4)\n",
    "\n",
    "pageB4.add_link(pageB3)\n",
    "pageB3.add_link(pageB4)\n",
    "pageB3.add_link(pageB2)\n",
    "pageB2.add_link(pageB3)\n",
    "pageB2.add_link(pageB1)\n",
    "\n",
    "pageB1.add_link(pageHome)\n",
    "pageB2.add_link(pageHome)\n",
    "pageB3.add_link(pageHome)\n",
    "pageB4.add_link(pageHome)\n",
    "\n",
    "pageReviews.add_link(pageR1)\n",
    "pageReviews.add_link(pageR2)\n",
    "pageReviews.add_link(pageR3)\n",
    "pageReviews.add_link(pageR4)\n",
    "pageReviews.add_link(pageR5)\n",
    "\n",
    "\n",
    "pages.append(pageHome)\n",
    "pages.append(pageAbout)\n",
    "pages.append(pageTeam)\n",
    "pages.append(pageBlog)\n",
    "pages.append(pageB1)\n",
    "pages.append(pageB2)\n",
    "pages.append(pageB3)\n",
    "pages.append(pageB4)\n",
    "pages.append(pageReviews)\n",
    "pages.append(pageR1)\n",
    "pages.append(pageR2)\n",
    "pages.append(pageR3)\n",
    "pages.append(pageR4)\n",
    "pages.append(pageR5)\n",
    "\n",
    "pageRank = PageRank(pages, debug=False, damping_factor=0.75, supernode=False)\n",
    "pageRank.run_page_rank(100)\n",
    "pageRank.print_table(show_supernode=True)"
   ]
  },
  {
   "cell_type": "markdown",
   "metadata": {},
   "source": [
    "**(4)**\n",
    "\n",
    "Ideas:\n",
    "1. You could create a bunch of hidden pages on your site that are linked to secretly on each blog post that all link to the homepage and nothing else.\n",
    "2. You could create more websites that all link to each other and your site. (Not modelable).\n",
    "3. Pay other people who have high PageRank sites to link to your page. (Also not modelable)."
   ]
  },
  {
   "cell_type": "code",
   "execution_count": 45,
   "metadata": {},
   "outputs": [
    {
     "name": "stdout",
     "output_type": "stream",
     "text": [
      "Home: 5.329371557878538\n",
      "About: 1.249257167102226\n",
      "Team: 1.249257167102226\n",
      "Blog: 1.249257167102226\n",
      "B1: 0.464264700150812\n",
      "B2: 0.4658528348149539\n",
      "B3: 0.49338050232674663\n",
      "B4: 0.4658528348149539\n",
      "Reviews: 1.249257167102226\n",
      "R1: 0.40615714588777824\n",
      "R2: 0.40615714588777824\n",
      "R3: 0.40615714588777824\n",
      "R4: 0.40615714588777824\n",
      "R5: 0.40615714588777824\n",
      "H1: 0.36611059838495175\n",
      "H2: 0.36611059838495175\n",
      "H3: 0.36611059838495175\n",
      "H4: 0.36611059838495175\n",
      "H5: 0.36611059838495175\n",
      "H6: 0.36611059838495175\n",
      "H7: 0.36611059838495175\n",
      "H8: 0.36611059838495175\n",
      "H9: 0.36611059838495175\n",
      "H10: 0.36611059838495175\n"
     ]
    }
   ],
   "source": [
    "pages = []\n",
    "pageHome = Webpage(\"Home\")\n",
    "pageAbout = Webpage(\"About\")\n",
    "pageTeam = Webpage(\"Team\")\n",
    "pageBlog = Webpage(\"Blog\")\n",
    "pageB1 = Webpage(\"B1\")\n",
    "pageB2 = Webpage(\"B2\")\n",
    "pageB3 = Webpage(\"B3\")\n",
    "pageB4 = Webpage(\"B4\")\n",
    "pageReviews = Webpage(\"Reviews\")\n",
    "pageR1 = Webpage(\"R1\")\n",
    "pageR2 = Webpage(\"R2\")\n",
    "pageR3 = Webpage(\"R3\")\n",
    "pageR4 = Webpage(\"R4\")\n",
    "pageR5 = Webpage(\"R5\")\n",
    "pageH1 = Webpage(\"H1\")\n",
    "pageH2 = Webpage(\"H2\")\n",
    "pageH3 = Webpage(\"H3\")\n",
    "pageH4 = Webpage(\"H4\")\n",
    "pageH5 = Webpage(\"H5\")\n",
    "pageH6 = Webpage(\"H6\")\n",
    "pageH7 = Webpage(\"H7\")\n",
    "pageH8 = Webpage(\"H8\")\n",
    "pageH9 = Webpage(\"H9\")\n",
    "pageH10 = Webpage(\"H10\")\n",
    "\n",
    "pageHome.add_link(pageAbout)\n",
    "pageHome.add_link(pageTeam)\n",
    "pageHome.add_link(pageBlog)\n",
    "pageHome.add_link(pageReviews)\n",
    "\n",
    "pageAbout.add_link(pageHome)\n",
    "pageTeam.add_link(pageHome)\n",
    "pageBlog.add_link(pageHome)\n",
    "pageReviews.add_link(pageHome)\n",
    "\n",
    "pageBlog.add_link(pageB1)\n",
    "pageBlog.add_link(pageB2)\n",
    "pageBlog.add_link(pageB3)\n",
    "pageBlog.add_link(pageB4)\n",
    "\n",
    "pageB4.add_link(pageB3)\n",
    "pageB3.add_link(pageB4)\n",
    "pageB3.add_link(pageB2)\n",
    "pageB2.add_link(pageB3)\n",
    "pageB2.add_link(pageB1)\n",
    "\n",
    "pageB1.add_link(pageHome)\n",
    "pageB2.add_link(pageHome)\n",
    "pageB3.add_link(pageHome)\n",
    "pageB4.add_link(pageHome)\n",
    "\n",
    "pageReviews.add_link(pageR1)\n",
    "pageReviews.add_link(pageR2)\n",
    "pageReviews.add_link(pageR3)\n",
    "pageReviews.add_link(pageR4)\n",
    "pageReviews.add_link(pageR5)\n",
    "\n",
    "pageB1.add_link(pageH1)\n",
    "pageB1.add_link(pageH2)\n",
    "pageB1.add_link(pageH3)\n",
    "pageB1.add_link(pageH4)\n",
    "pageB1.add_link(pageH5)\n",
    "pageB1.add_link(pageH6)\n",
    "pageB1.add_link(pageH7)\n",
    "pageB1.add_link(pageH8)\n",
    "pageB1.add_link(pageH8)\n",
    "pageB1.add_link(pageH9)\n",
    "pageB1.add_link(pageH10)\n",
    "\n",
    "pageB2.add_link(pageH1)\n",
    "pageB2.add_link(pageH2)\n",
    "pageB2.add_link(pageH3)\n",
    "pageB2.add_link(pageH4)\n",
    "pageB2.add_link(pageH5)\n",
    "pageB2.add_link(pageH6)\n",
    "pageB2.add_link(pageH7)\n",
    "pageB2.add_link(pageH8)\n",
    "pageB2.add_link(pageH8)\n",
    "pageB2.add_link(pageH9)\n",
    "pageB2.add_link(pageH10)\n",
    "\n",
    "pageB3.add_link(pageH1)\n",
    "pageB3.add_link(pageH2)\n",
    "pageB3.add_link(pageH3)\n",
    "pageB3.add_link(pageH4)\n",
    "pageB3.add_link(pageH5)\n",
    "pageB3.add_link(pageH6)\n",
    "pageB3.add_link(pageH7)\n",
    "pageB3.add_link(pageH8)\n",
    "pageB3.add_link(pageH8)\n",
    "pageB3.add_link(pageH9)\n",
    "pageB3.add_link(pageH10)\n",
    "\n",
    "pageB4.add_link(pageH1)\n",
    "pageB4.add_link(pageH2)\n",
    "pageB4.add_link(pageH3)\n",
    "pageB4.add_link(pageH4)\n",
    "pageB4.add_link(pageH5)\n",
    "pageB4.add_link(pageH6)\n",
    "pageB4.add_link(pageH7)\n",
    "pageB4.add_link(pageH8)\n",
    "pageB4.add_link(pageH8)\n",
    "pageB4.add_link(pageH9)\n",
    "pageB4.add_link(pageH10)\n",
    "\n",
    "pageH1.add_link(pageHome)\n",
    "pageH2.add_link(pageHome)\n",
    "pageH3.add_link(pageHome)\n",
    "pageH4.add_link(pageHome)\n",
    "pageH5.add_link(pageHome)\n",
    "pageH6.add_link(pageHome)\n",
    "pageH7.add_link(pageHome)\n",
    "pageH8.add_link(pageHome)\n",
    "pageH9.add_link(pageHome)\n",
    "pageH10.add_link(pageHome)\n",
    "\n",
    "pages.append(pageHome)\n",
    "pages.append(pageAbout)\n",
    "pages.append(pageTeam)\n",
    "pages.append(pageBlog)\n",
    "pages.append(pageB1)\n",
    "pages.append(pageB2)\n",
    "pages.append(pageB3)\n",
    "pages.append(pageB4)\n",
    "pages.append(pageReviews)\n",
    "pages.append(pageR1)\n",
    "pages.append(pageR2)\n",
    "pages.append(pageR3)\n",
    "pages.append(pageR4)\n",
    "pages.append(pageR5)\n",
    "pages.append(pageH1)\n",
    "pages.append(pageH2)\n",
    "pages.append(pageH3)\n",
    "pages.append(pageH4)\n",
    "pages.append(pageH5)\n",
    "pages.append(pageH6)\n",
    "pages.append(pageH7)\n",
    "pages.append(pageH8)\n",
    "pages.append(pageH9)\n",
    "pages.append(pageH10)\n",
    "\n",
    "pageRank = PageRank(pages, debug=False, damping_factor=0.75, supernode=False)\n",
    "pageRank.run_page_rank(100)\n",
    "pageRank.print_table(show_supernode=True)"
   ]
  },
  {
   "cell_type": "markdown",
   "metadata": {},
   "source": [
    "As you can see, adding 10 hidden pages that all are linked from the blog posts and all link to the homepage boosts the homepage PR from 2.32 to 5.32."
   ]
  },
  {
   "cell_type": "markdown",
   "metadata": {},
   "source": [
    "**(5)**\n",
    "\n",
    "Ideas:\n",
    "1. The more blog posts you create, the higher your homepage will rank.\n",
    "2. You could nicely email other people with similar blogs and see if they are willing to link to your site.\n",
    "3. You could restructure your website.\n",
    "4. You could work on getting your blog more attention through advertising and people would naturally start linking to your posts.\n",
    "5. Create an Instagram and Facebook and Twitter and everything for your blog and link to it a lot."
   ]
  },
  {
   "cell_type": "code",
   "execution_count": null,
   "metadata": {},
   "outputs": [],
   "source": []
  }
 ],
 "metadata": {
  "colab": {
   "name": "PageRank exploration.ipynb",
   "provenance": []
  },
  "kernelspec": {
   "display_name": "Python 3 (ipykernel)",
   "language": "python",
   "name": "python3"
  },
  "language_info": {
   "codemirror_mode": {
    "name": "ipython",
    "version": 3
   },
   "file_extension": ".py",
   "mimetype": "text/x-python",
   "name": "python",
   "nbconvert_exporter": "python",
   "pygments_lexer": "ipython3",
   "version": "3.9.10"
  }
 },
 "nbformat": 4,
 "nbformat_minor": 4
}
